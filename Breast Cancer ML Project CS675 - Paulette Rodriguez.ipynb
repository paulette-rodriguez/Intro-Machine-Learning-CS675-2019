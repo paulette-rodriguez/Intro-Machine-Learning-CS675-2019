{
 "cells": [
  {
   "cell_type": "markdown",
   "metadata": {},
   "source": [
    "# Project Goal:\n",
    "<br>\n",
    "To develop two different supervised methods for callsification using Cancer dataset available on 'https://archive.ics.uci.edu/ml/datasets/Breast+Cancer+Wisconsin+%28Diagnostic%29'. As part of model training, we are also going to tweak with hyperparameters to optimize performance of the model on the test data set.<br>"
   ]
  },
  {
   "cell_type": "code",
   "execution_count": 127,
   "metadata": {},
   "outputs": [],
   "source": [
    "#Import modules or libraries for project:\n",
    "import numpy as np\n",
    "import pandas as pd\n",
    "import matplotlib.pyplot as plt\n",
    "%matplotlib inline\n",
    "import seaborn as sns\n",
    "import os\n",
    "from sklearn import metrics \n",
    "from sklearn.model_selection import train_test_split\n",
    "from sklearn.metrics import classification_report,confusion_matrix"
   ]
  },
  {
   "cell_type": "code",
   "execution_count": 128,
   "metadata": {},
   "outputs": [
    {
     "name": "stdout",
     "output_type": "stream",
     "text": [
      "URL: https://archive.ics.uci.edu/ml/machine-learning-databases/breast-cancer-wisconsin/wdbc.data\n",
      "         0  1      2      3      4       5        6        7       8   \\\n",
      "0    842302  M  17.99  10.38  122.8  1001.0  0.11840  0.27760  0.3001   \n",
      "1    842517  M  20.57  17.77  132.9  1326.0  0.08474  0.07864  0.0869   \n",
      "2  84300903  M  19.69  21.25  130.0  1203.0  0.10960  0.15990  0.1974   \n",
      "\n",
      "        9   ...     22     23     24      25      26      27      28      29  \\\n",
      "0  0.14710  ...  25.38  17.33  184.6  2019.0  0.1622  0.6656  0.7119  0.2654   \n",
      "1  0.07017  ...  24.99  23.41  158.8  1956.0  0.1238  0.1866  0.2416  0.1860   \n",
      "2  0.12790  ...  23.57  25.53  152.5  1709.0  0.1444  0.4245  0.4504  0.2430   \n",
      "\n",
      "       30       31  \n",
      "0  0.4601  0.11890  \n",
      "1  0.2750  0.08902  \n",
      "2  0.3613  0.08758  \n",
      "\n",
      "[3 rows x 32 columns]\n"
     ]
    },
    {
     "data": {
      "text/plain": [
       "569"
      ]
     },
     "execution_count": 128,
     "metadata": {},
     "output_type": "execute_result"
    }
   ],
   "source": [
    "#import data from website:\n",
    "\n",
    "s = os.path.join('https://archive.ics.uci.edu', 'ml',\n",
    "                 'machine-learning-databases', 'breast-cancer-wisconsin','wdbc.data')\n",
    "s = s.replace(\"\\\\\",\"/\");\n",
    "print('URL:', s)\n",
    "Cancer_data = pd.read_csv(s,header=None,encoding='utf-8')\n",
    "print(Cancer_data.head(3))\n",
    "len(Cancer_data)"
   ]
  },
  {
   "cell_type": "code",
   "execution_count": 129,
   "metadata": {
    "scrolled": true
   },
   "outputs": [
    {
     "name": "stdout",
     "output_type": "stream",
     "text": [
      "         id diagnosis  radius_mean  texture_mean  perimeter_mean  area_mean  \\\n",
      "0    842302         M        17.99         10.38           122.8     1001.0   \n",
      "1    842517         M        20.57         17.77           132.9     1326.0   \n",
      "2  84300903         M        19.69         21.25           130.0     1203.0   \n",
      "\n",
      "   smoothness_mean  compactness_mean  concavity_mean  concave points_mean  \\\n",
      "0          0.11840           0.27760          0.3001              0.14710   \n",
      "1          0.08474           0.07864          0.0869              0.07017   \n",
      "2          0.10960           0.15990          0.1974              0.12790   \n",
      "\n",
      "   ...  texture_worst  perimeter_worst  area_worst  smoothness_worst  \\\n",
      "0  ...          17.33            184.6      2019.0            0.1622   \n",
      "1  ...          23.41            158.8      1956.0            0.1238   \n",
      "2  ...          25.53            152.5      1709.0            0.1444   \n",
      "\n",
      "   compactness_worst  concavity_worst  concave points_worst  symmetry_worst  \\\n",
      "0             0.6656           0.7119                0.2654          0.4601   \n",
      "1             0.1866           0.2416                0.1860          0.2750   \n",
      "2             0.4245           0.4504                0.2430          0.3613   \n",
      "\n",
      "   fractal_dimension_worst  Unnamed: 32  \n",
      "0                  0.11890          NaN  \n",
      "1                  0.08902          NaN  \n",
      "2                  0.08758          NaN  \n",
      "\n",
      "[3 rows x 33 columns]\n"
     ]
    },
    {
     "data": {
      "text/plain": [
       "569"
      ]
     },
     "execution_count": 129,
     "metadata": {},
     "output_type": "execute_result"
    }
   ],
   "source": [
    "# import csv file data\n",
    "Cancerdata = pd.read_csv(r'C:\\Users\\12019\\Documents\\2.Abhishek\\Spring 2020\\Machine Learning\\Assignments\\Breast cancer data.csv',header = 0)\n",
    "print(Cancerdata.head(3))\n",
    "len(Cancerdata)"
   ]
  },
  {
   "cell_type": "markdown",
   "metadata": {},
   "source": [
    "# <font color ='green'> In the section below, we wil analyze data for features, target label, rows, and other relevant statistics."
   ]
  },
  {
   "cell_type": "code",
   "execution_count": 130,
   "metadata": {},
   "outputs": [
    {
     "name": "stdout",
     "output_type": "stream",
     "text": [
      "<class 'pandas.core.frame.DataFrame'>\n",
      "RangeIndex: 569 entries, 0 to 568\n",
      "Data columns (total 33 columns):\n",
      "id                         569 non-null int64\n",
      "diagnosis                  569 non-null object\n",
      "radius_mean                569 non-null float64\n",
      "texture_mean               569 non-null float64\n",
      "perimeter_mean             569 non-null float64\n",
      "area_mean                  569 non-null float64\n",
      "smoothness_mean            569 non-null float64\n",
      "compactness_mean           569 non-null float64\n",
      "concavity_mean             569 non-null float64\n",
      "concave points_mean        569 non-null float64\n",
      "symmetry_mean              569 non-null float64\n",
      "fractal_dimension_mean     569 non-null float64\n",
      "radius_se                  569 non-null float64\n",
      "texture_se                 569 non-null float64\n",
      "perimeter_se               569 non-null float64\n",
      "area_se                    569 non-null float64\n",
      "smoothness_se              569 non-null float64\n",
      "compactness_se             569 non-null float64\n",
      "concavity_se               569 non-null float64\n",
      "concave points_se          569 non-null float64\n",
      "symmetry_se                569 non-null float64\n",
      "fractal_dimension_se       569 non-null float64\n",
      "radius_worst               569 non-null float64\n",
      "texture_worst              569 non-null float64\n",
      "perimeter_worst            569 non-null float64\n",
      "area_worst                 569 non-null float64\n",
      "smoothness_worst           569 non-null float64\n",
      "compactness_worst          569 non-null float64\n",
      "concavity_worst            569 non-null float64\n",
      "concave points_worst       569 non-null float64\n",
      "symmetry_worst             569 non-null float64\n",
      "fractal_dimension_worst    569 non-null float64\n",
      "Unnamed: 32                0 non-null float64\n",
      "dtypes: float64(31), int64(1), object(1)\n",
      "memory usage: 146.8+ KB\n"
     ]
    }
   ],
   "source": [
    "#display summary of imported data\n",
    "Cancerdata.info()"
   ]
  },
  {
   "cell_type": "code",
   "execution_count": 131,
   "metadata": {},
   "outputs": [
    {
     "data": {
      "text/plain": [
       "Index(['diagnosis', 'radius_mean', 'texture_mean', 'perimeter_mean',\n",
       "       'area_mean', 'smoothness_mean', 'compactness_mean', 'concavity_mean',\n",
       "       'concave points_mean', 'symmetry_mean', 'fractal_dimension_mean',\n",
       "       'radius_se', 'texture_se', 'perimeter_se', 'area_se', 'smoothness_se',\n",
       "       'compactness_se', 'concavity_se', 'concave points_se', 'symmetry_se',\n",
       "       'fractal_dimension_se', 'radius_worst', 'texture_worst',\n",
       "       'perimeter_worst', 'area_worst', 'smoothness_worst',\n",
       "       'compactness_worst', 'concavity_worst', 'concave points_worst',\n",
       "       'symmetry_worst', 'fractal_dimension_worst'],\n",
       "      dtype='object')"
      ]
     },
     "execution_count": 131,
     "metadata": {},
     "output_type": "execute_result"
    }
   ],
   "source": [
    "# remove unwanted columns from data\n",
    "Cancerdata.drop(['id','Unnamed: 32'],axis=1,inplace = True)\n",
    "Cancerdata.columns"
   ]
  },
  {
   "cell_type": "code",
   "execution_count": 132,
   "metadata": {},
   "outputs": [
    {
     "data": {
      "text/plain": [
       "array(['M', 'B'], dtype=object)"
      ]
     },
     "execution_count": 132,
     "metadata": {},
     "output_type": "execute_result"
    }
   ],
   "source": [
    "# obtain unique values list for 'diagnosis' column\n",
    "Cancerdata.diagnosis.unique() "
   ]
  },
  {
   "cell_type": "code",
   "execution_count": 133,
   "metadata": {},
   "outputs": [
    {
     "data": {
      "text/html": [
       "<div>\n",
       "<style scoped>\n",
       "    .dataframe tbody tr th:only-of-type {\n",
       "        vertical-align: middle;\n",
       "    }\n",
       "\n",
       "    .dataframe tbody tr th {\n",
       "        vertical-align: top;\n",
       "    }\n",
       "\n",
       "    .dataframe thead th {\n",
       "        text-align: right;\n",
       "    }\n",
       "</style>\n",
       "<table border=\"1\" class=\"dataframe\">\n",
       "  <thead>\n",
       "    <tr style=\"text-align: right;\">\n",
       "      <th></th>\n",
       "      <th>diagnosis</th>\n",
       "      <th>radius_mean</th>\n",
       "      <th>texture_mean</th>\n",
       "      <th>perimeter_mean</th>\n",
       "      <th>area_mean</th>\n",
       "      <th>smoothness_mean</th>\n",
       "      <th>compactness_mean</th>\n",
       "      <th>concavity_mean</th>\n",
       "      <th>concave points_mean</th>\n",
       "      <th>symmetry_mean</th>\n",
       "      <th>...</th>\n",
       "      <th>radius_worst</th>\n",
       "      <th>texture_worst</th>\n",
       "      <th>perimeter_worst</th>\n",
       "      <th>area_worst</th>\n",
       "      <th>smoothness_worst</th>\n",
       "      <th>compactness_worst</th>\n",
       "      <th>concavity_worst</th>\n",
       "      <th>concave points_worst</th>\n",
       "      <th>symmetry_worst</th>\n",
       "      <th>fractal_dimension_worst</th>\n",
       "    </tr>\n",
       "  </thead>\n",
       "  <tbody>\n",
       "    <tr>\n",
       "      <th>0</th>\n",
       "      <td>1</td>\n",
       "      <td>17.99</td>\n",
       "      <td>10.38</td>\n",
       "      <td>122.8</td>\n",
       "      <td>1001.0</td>\n",
       "      <td>0.11840</td>\n",
       "      <td>0.27760</td>\n",
       "      <td>0.3001</td>\n",
       "      <td>0.14710</td>\n",
       "      <td>0.2419</td>\n",
       "      <td>...</td>\n",
       "      <td>25.38</td>\n",
       "      <td>17.33</td>\n",
       "      <td>184.6</td>\n",
       "      <td>2019.0</td>\n",
       "      <td>0.1622</td>\n",
       "      <td>0.6656</td>\n",
       "      <td>0.7119</td>\n",
       "      <td>0.2654</td>\n",
       "      <td>0.4601</td>\n",
       "      <td>0.11890</td>\n",
       "    </tr>\n",
       "    <tr>\n",
       "      <th>1</th>\n",
       "      <td>1</td>\n",
       "      <td>20.57</td>\n",
       "      <td>17.77</td>\n",
       "      <td>132.9</td>\n",
       "      <td>1326.0</td>\n",
       "      <td>0.08474</td>\n",
       "      <td>0.07864</td>\n",
       "      <td>0.0869</td>\n",
       "      <td>0.07017</td>\n",
       "      <td>0.1812</td>\n",
       "      <td>...</td>\n",
       "      <td>24.99</td>\n",
       "      <td>23.41</td>\n",
       "      <td>158.8</td>\n",
       "      <td>1956.0</td>\n",
       "      <td>0.1238</td>\n",
       "      <td>0.1866</td>\n",
       "      <td>0.2416</td>\n",
       "      <td>0.1860</td>\n",
       "      <td>0.2750</td>\n",
       "      <td>0.08902</td>\n",
       "    </tr>\n",
       "    <tr>\n",
       "      <th>2</th>\n",
       "      <td>1</td>\n",
       "      <td>19.69</td>\n",
       "      <td>21.25</td>\n",
       "      <td>130.0</td>\n",
       "      <td>1203.0</td>\n",
       "      <td>0.10960</td>\n",
       "      <td>0.15990</td>\n",
       "      <td>0.1974</td>\n",
       "      <td>0.12790</td>\n",
       "      <td>0.2069</td>\n",
       "      <td>...</td>\n",
       "      <td>23.57</td>\n",
       "      <td>25.53</td>\n",
       "      <td>152.5</td>\n",
       "      <td>1709.0</td>\n",
       "      <td>0.1444</td>\n",
       "      <td>0.4245</td>\n",
       "      <td>0.4504</td>\n",
       "      <td>0.2430</td>\n",
       "      <td>0.3613</td>\n",
       "      <td>0.08758</td>\n",
       "    </tr>\n",
       "  </tbody>\n",
       "</table>\n",
       "<p>3 rows × 31 columns</p>\n",
       "</div>"
      ],
      "text/plain": [
       "   diagnosis  radius_mean  texture_mean  perimeter_mean  area_mean  \\\n",
       "0          1        17.99         10.38           122.8     1001.0   \n",
       "1          1        20.57         17.77           132.9     1326.0   \n",
       "2          1        19.69         21.25           130.0     1203.0   \n",
       "\n",
       "   smoothness_mean  compactness_mean  concavity_mean  concave points_mean  \\\n",
       "0          0.11840           0.27760          0.3001              0.14710   \n",
       "1          0.08474           0.07864          0.0869              0.07017   \n",
       "2          0.10960           0.15990          0.1974              0.12790   \n",
       "\n",
       "   symmetry_mean  ...  radius_worst  texture_worst  perimeter_worst  \\\n",
       "0         0.2419  ...         25.38          17.33            184.6   \n",
       "1         0.1812  ...         24.99          23.41            158.8   \n",
       "2         0.2069  ...         23.57          25.53            152.5   \n",
       "\n",
       "   area_worst  smoothness_worst  compactness_worst  concavity_worst  \\\n",
       "0      2019.0            0.1622             0.6656           0.7119   \n",
       "1      1956.0            0.1238             0.1866           0.2416   \n",
       "2      1709.0            0.1444             0.4245           0.4504   \n",
       "\n",
       "   concave points_worst  symmetry_worst  fractal_dimension_worst  \n",
       "0                0.2654          0.4601                  0.11890  \n",
       "1                0.1860          0.2750                  0.08902  \n",
       "2                0.2430          0.3613                  0.08758  \n",
       "\n",
       "[3 rows x 31 columns]"
      ]
     },
     "execution_count": 133,
     "metadata": {},
     "output_type": "execute_result"
    }
   ],
   "source": [
    "# convert 'diagnosis' column categorical data into quantitative data \n",
    "Cancerdata['diagnosis']= Cancerdata['diagnosis'].map({'M':1,'B':0})\n",
    "Cancerdata.head(3)"
   ]
  },
  {
   "cell_type": "code",
   "execution_count": 134,
   "metadata": {},
   "outputs": [
    {
     "data": {
      "text/html": [
       "<div>\n",
       "<style scoped>\n",
       "    .dataframe tbody tr th:only-of-type {\n",
       "        vertical-align: middle;\n",
       "    }\n",
       "\n",
       "    .dataframe tbody tr th {\n",
       "        vertical-align: top;\n",
       "    }\n",
       "\n",
       "    .dataframe thead th {\n",
       "        text-align: right;\n",
       "    }\n",
       "</style>\n",
       "<table border=\"1\" class=\"dataframe\">\n",
       "  <thead>\n",
       "    <tr style=\"text-align: right;\">\n",
       "      <th></th>\n",
       "      <th>diagnosis</th>\n",
       "      <th>radius_mean</th>\n",
       "      <th>texture_mean</th>\n",
       "      <th>perimeter_mean</th>\n",
       "      <th>area_mean</th>\n",
       "      <th>smoothness_mean</th>\n",
       "      <th>compactness_mean</th>\n",
       "      <th>concavity_mean</th>\n",
       "      <th>concave points_mean</th>\n",
       "      <th>symmetry_mean</th>\n",
       "      <th>...</th>\n",
       "      <th>radius_worst</th>\n",
       "      <th>texture_worst</th>\n",
       "      <th>perimeter_worst</th>\n",
       "      <th>area_worst</th>\n",
       "      <th>smoothness_worst</th>\n",
       "      <th>compactness_worst</th>\n",
       "      <th>concavity_worst</th>\n",
       "      <th>concave points_worst</th>\n",
       "      <th>symmetry_worst</th>\n",
       "      <th>fractal_dimension_worst</th>\n",
       "    </tr>\n",
       "  </thead>\n",
       "  <tbody>\n",
       "    <tr>\n",
       "      <th>count</th>\n",
       "      <td>569.000</td>\n",
       "      <td>569.000</td>\n",
       "      <td>569.000</td>\n",
       "      <td>569.000</td>\n",
       "      <td>569.000</td>\n",
       "      <td>569.000</td>\n",
       "      <td>569.000</td>\n",
       "      <td>569.000</td>\n",
       "      <td>569.000</td>\n",
       "      <td>569.000</td>\n",
       "      <td>...</td>\n",
       "      <td>569.000</td>\n",
       "      <td>569.000</td>\n",
       "      <td>569.000</td>\n",
       "      <td>569.000</td>\n",
       "      <td>569.000</td>\n",
       "      <td>569.000</td>\n",
       "      <td>569.000</td>\n",
       "      <td>569.000</td>\n",
       "      <td>569.000</td>\n",
       "      <td>569.000</td>\n",
       "    </tr>\n",
       "    <tr>\n",
       "      <th>mean</th>\n",
       "      <td>0.373</td>\n",
       "      <td>14.127</td>\n",
       "      <td>19.290</td>\n",
       "      <td>91.969</td>\n",
       "      <td>654.889</td>\n",
       "      <td>0.096</td>\n",
       "      <td>0.104</td>\n",
       "      <td>0.089</td>\n",
       "      <td>0.049</td>\n",
       "      <td>0.181</td>\n",
       "      <td>...</td>\n",
       "      <td>16.269</td>\n",
       "      <td>25.677</td>\n",
       "      <td>107.261</td>\n",
       "      <td>880.583</td>\n",
       "      <td>0.132</td>\n",
       "      <td>0.254</td>\n",
       "      <td>0.272</td>\n",
       "      <td>0.115</td>\n",
       "      <td>0.290</td>\n",
       "      <td>0.084</td>\n",
       "    </tr>\n",
       "    <tr>\n",
       "      <th>std</th>\n",
       "      <td>0.484</td>\n",
       "      <td>3.524</td>\n",
       "      <td>4.301</td>\n",
       "      <td>24.299</td>\n",
       "      <td>351.914</td>\n",
       "      <td>0.014</td>\n",
       "      <td>0.053</td>\n",
       "      <td>0.080</td>\n",
       "      <td>0.039</td>\n",
       "      <td>0.027</td>\n",
       "      <td>...</td>\n",
       "      <td>4.833</td>\n",
       "      <td>6.146</td>\n",
       "      <td>33.603</td>\n",
       "      <td>569.357</td>\n",
       "      <td>0.023</td>\n",
       "      <td>0.157</td>\n",
       "      <td>0.209</td>\n",
       "      <td>0.066</td>\n",
       "      <td>0.062</td>\n",
       "      <td>0.018</td>\n",
       "    </tr>\n",
       "    <tr>\n",
       "      <th>min</th>\n",
       "      <td>0.000</td>\n",
       "      <td>6.981</td>\n",
       "      <td>9.710</td>\n",
       "      <td>43.790</td>\n",
       "      <td>143.500</td>\n",
       "      <td>0.053</td>\n",
       "      <td>0.019</td>\n",
       "      <td>0.000</td>\n",
       "      <td>0.000</td>\n",
       "      <td>0.106</td>\n",
       "      <td>...</td>\n",
       "      <td>7.930</td>\n",
       "      <td>12.020</td>\n",
       "      <td>50.410</td>\n",
       "      <td>185.200</td>\n",
       "      <td>0.071</td>\n",
       "      <td>0.027</td>\n",
       "      <td>0.000</td>\n",
       "      <td>0.000</td>\n",
       "      <td>0.156</td>\n",
       "      <td>0.055</td>\n",
       "    </tr>\n",
       "    <tr>\n",
       "      <th>25%</th>\n",
       "      <td>0.000</td>\n",
       "      <td>11.700</td>\n",
       "      <td>16.170</td>\n",
       "      <td>75.170</td>\n",
       "      <td>420.300</td>\n",
       "      <td>0.086</td>\n",
       "      <td>0.065</td>\n",
       "      <td>0.030</td>\n",
       "      <td>0.020</td>\n",
       "      <td>0.162</td>\n",
       "      <td>...</td>\n",
       "      <td>13.010</td>\n",
       "      <td>21.080</td>\n",
       "      <td>84.110</td>\n",
       "      <td>515.300</td>\n",
       "      <td>0.117</td>\n",
       "      <td>0.147</td>\n",
       "      <td>0.114</td>\n",
       "      <td>0.065</td>\n",
       "      <td>0.250</td>\n",
       "      <td>0.071</td>\n",
       "    </tr>\n",
       "    <tr>\n",
       "      <th>50%</th>\n",
       "      <td>0.000</td>\n",
       "      <td>13.370</td>\n",
       "      <td>18.840</td>\n",
       "      <td>86.240</td>\n",
       "      <td>551.100</td>\n",
       "      <td>0.096</td>\n",
       "      <td>0.093</td>\n",
       "      <td>0.062</td>\n",
       "      <td>0.034</td>\n",
       "      <td>0.179</td>\n",
       "      <td>...</td>\n",
       "      <td>14.970</td>\n",
       "      <td>25.410</td>\n",
       "      <td>97.660</td>\n",
       "      <td>686.500</td>\n",
       "      <td>0.131</td>\n",
       "      <td>0.212</td>\n",
       "      <td>0.227</td>\n",
       "      <td>0.100</td>\n",
       "      <td>0.282</td>\n",
       "      <td>0.080</td>\n",
       "    </tr>\n",
       "    <tr>\n",
       "      <th>75%</th>\n",
       "      <td>1.000</td>\n",
       "      <td>15.780</td>\n",
       "      <td>21.800</td>\n",
       "      <td>104.100</td>\n",
       "      <td>782.700</td>\n",
       "      <td>0.105</td>\n",
       "      <td>0.130</td>\n",
       "      <td>0.131</td>\n",
       "      <td>0.074</td>\n",
       "      <td>0.196</td>\n",
       "      <td>...</td>\n",
       "      <td>18.790</td>\n",
       "      <td>29.720</td>\n",
       "      <td>125.400</td>\n",
       "      <td>1084.000</td>\n",
       "      <td>0.146</td>\n",
       "      <td>0.339</td>\n",
       "      <td>0.383</td>\n",
       "      <td>0.161</td>\n",
       "      <td>0.318</td>\n",
       "      <td>0.092</td>\n",
       "    </tr>\n",
       "    <tr>\n",
       "      <th>max</th>\n",
       "      <td>1.000</td>\n",
       "      <td>28.110</td>\n",
       "      <td>39.280</td>\n",
       "      <td>188.500</td>\n",
       "      <td>2501.000</td>\n",
       "      <td>0.163</td>\n",
       "      <td>0.345</td>\n",
       "      <td>0.427</td>\n",
       "      <td>0.201</td>\n",
       "      <td>0.304</td>\n",
       "      <td>...</td>\n",
       "      <td>36.040</td>\n",
       "      <td>49.540</td>\n",
       "      <td>251.200</td>\n",
       "      <td>4254.000</td>\n",
       "      <td>0.223</td>\n",
       "      <td>1.058</td>\n",
       "      <td>1.252</td>\n",
       "      <td>0.291</td>\n",
       "      <td>0.664</td>\n",
       "      <td>0.208</td>\n",
       "    </tr>\n",
       "  </tbody>\n",
       "</table>\n",
       "<p>8 rows × 31 columns</p>\n",
       "</div>"
      ],
      "text/plain": [
       "       diagnosis  radius_mean  texture_mean  perimeter_mean  area_mean  \\\n",
       "count    569.000      569.000       569.000         569.000    569.000   \n",
       "mean       0.373       14.127        19.290          91.969    654.889   \n",
       "std        0.484        3.524         4.301          24.299    351.914   \n",
       "min        0.000        6.981         9.710          43.790    143.500   \n",
       "25%        0.000       11.700        16.170          75.170    420.300   \n",
       "50%        0.000       13.370        18.840          86.240    551.100   \n",
       "75%        1.000       15.780        21.800         104.100    782.700   \n",
       "max        1.000       28.110        39.280         188.500   2501.000   \n",
       "\n",
       "       smoothness_mean  compactness_mean  concavity_mean  concave points_mean  \\\n",
       "count          569.000           569.000         569.000              569.000   \n",
       "mean             0.096             0.104           0.089                0.049   \n",
       "std              0.014             0.053           0.080                0.039   \n",
       "min              0.053             0.019           0.000                0.000   \n",
       "25%              0.086             0.065           0.030                0.020   \n",
       "50%              0.096             0.093           0.062                0.034   \n",
       "75%              0.105             0.130           0.131                0.074   \n",
       "max              0.163             0.345           0.427                0.201   \n",
       "\n",
       "       symmetry_mean  ...  radius_worst  texture_worst  perimeter_worst  \\\n",
       "count        569.000  ...       569.000        569.000          569.000   \n",
       "mean           0.181  ...        16.269         25.677          107.261   \n",
       "std            0.027  ...         4.833          6.146           33.603   \n",
       "min            0.106  ...         7.930         12.020           50.410   \n",
       "25%            0.162  ...        13.010         21.080           84.110   \n",
       "50%            0.179  ...        14.970         25.410           97.660   \n",
       "75%            0.196  ...        18.790         29.720          125.400   \n",
       "max            0.304  ...        36.040         49.540          251.200   \n",
       "\n",
       "       area_worst  smoothness_worst  compactness_worst  concavity_worst  \\\n",
       "count     569.000           569.000            569.000          569.000   \n",
       "mean      880.583             0.132              0.254            0.272   \n",
       "std       569.357             0.023              0.157            0.209   \n",
       "min       185.200             0.071              0.027            0.000   \n",
       "25%       515.300             0.117              0.147            0.114   \n",
       "50%       686.500             0.131              0.212            0.227   \n",
       "75%      1084.000             0.146              0.339            0.383   \n",
       "max      4254.000             0.223              1.058            1.252   \n",
       "\n",
       "       concave points_worst  symmetry_worst  fractal_dimension_worst  \n",
       "count               569.000         569.000                  569.000  \n",
       "mean                  0.115           0.290                    0.084  \n",
       "std                   0.066           0.062                    0.018  \n",
       "min                   0.000           0.156                    0.055  \n",
       "25%                   0.065           0.250                    0.071  \n",
       "50%                   0.100           0.282                    0.080  \n",
       "75%                   0.161           0.318                    0.092  \n",
       "max                   0.291           0.664                    0.208  \n",
       "\n",
       "[8 rows x 31 columns]"
      ]
     },
     "execution_count": 134,
     "metadata": {},
     "output_type": "execute_result"
    }
   ],
   "source": [
    "# Generate descriptive statistics for each column\n",
    "Cancerdata.describe().round(3)"
   ]
  },
  {
   "cell_type": "markdown",
   "metadata": {},
   "source": [
    "# <font color ='green'> In the section below, we split the data into train and test set."
   ]
  },
  {
   "cell_type": "code",
   "execution_count": 135,
   "metadata": {},
   "outputs": [
    {
     "name": "stdout",
     "output_type": "stream",
     "text": [
      "(398, 31)\n",
      "(171, 31)\n"
     ]
    }
   ],
   "source": [
    "train, test = train_test_split(Cancerdata, test_size = 0.3)# in this our main data is splitted into train and test\n",
    "# we can check train and test date dimension\n",
    "print(train.shape)\n",
    "print(test.shape)"
   ]
  },
  {
   "cell_type": "code",
   "execution_count": 136,
   "metadata": {},
   "outputs": [],
   "source": [
    "train_y = train.diagnosis\n",
    "test_y  = test.diagnosis "
   ]
  },
  {
   "cell_type": "markdown",
   "metadata": {},
   "source": [
    "# <font color ='green'> In the section below, we will analyze  and determine most important features and features that can be disregarded."
   ]
  },
  {
   "cell_type": "code",
   "execution_count": 137,
   "metadata": {},
   "outputs": [],
   "source": [
    "#prepare test set and train set with all features\n",
    "all_features=Cancerdata.columns[1:31]\n",
    "train_X = train[all_features]\n",
    "test_X = test[all_features]"
   ]
  },
  {
   "cell_type": "markdown",
   "metadata": {},
   "source": [
    "<font color ='green'> We are going to use RandomForest and DecisionTree model and use all features to determine most important features"
   ]
  },
  {
   "cell_type": "code",
   "execution_count": 138,
   "metadata": {},
   "outputs": [
    {
     "name": "stdout",
     "output_type": "stream",
     "text": [
      "0.947\n"
     ]
    }
   ],
   "source": [
    "from sklearn.ensemble import RandomForestClassifier\n",
    "RFmodel=RandomForestClassifier(n_estimators=200) # max_features set as auto in default \n",
    "\n",
    "RFmodel.fit(train_X,train_y)# now fit our model for traiing data\n",
    "prediction=RFmodel.predict(test_X)\n",
    "accuracy = metrics.accuracy_score(prediction,test_y).round(3)  \n",
    "print(accuracy)"
   ]
  },
  {
   "cell_type": "code",
   "execution_count": 139,
   "metadata": {},
   "outputs": [
    {
     "name": "stdout",
     "output_type": "stream",
     "text": [
      "area_worst                 0.145779\n",
      "radius_worst               0.123195\n",
      "concave points_worst       0.107734\n",
      "perimeter_worst            0.104227\n",
      "concave points_mean        0.102526\n",
      "area_mean                  0.057728\n",
      "concavity_mean             0.046446\n",
      "perimeter_mean             0.045329\n",
      "concavity_worst            0.040625\n",
      "radius_mean                0.035540\n",
      "area_se                    0.031499\n",
      "radius_se                  0.020390\n",
      "texture_worst              0.015733\n",
      "compactness_worst          0.014729\n",
      "perimeter_se               0.012950\n",
      "smoothness_worst           0.012653\n",
      "texture_mean               0.011079\n",
      "compactness_mean           0.010162\n",
      "symmetry_worst             0.008879\n",
      "concavity_se               0.008223\n",
      "smoothness_mean            0.007333\n",
      "fractal_dimension_worst    0.005599\n",
      "concave points_se          0.004918\n",
      "compactness_se             0.004817\n",
      "fractal_dimension_se       0.004720\n",
      "smoothness_se              0.004324\n",
      "symmetry_mean              0.003962\n",
      "texture_se                 0.003532\n",
      "symmetry_se                0.002976\n",
      "fractal_dimension_mean     0.002395\n",
      "dtype: float64\n"
     ]
    }
   ],
   "source": [
    "imp_features = pd.Series(RFmodel.feature_importances_, index=all_features).sort_values(ascending=False)\n",
    "print(imp_features)"
   ]
  },
  {
   "cell_type": "code",
   "execution_count": 140,
   "metadata": {},
   "outputs": [
    {
     "name": "stdout",
     "output_type": "stream",
     "text": [
      "0.93\n"
     ]
    }
   ],
   "source": [
    "from sklearn.tree import DecisionTreeClassifier\n",
    "\n",
    "Treemodel = DecisionTreeClassifier()\n",
    "\n",
    "Treemodel.fit(train_X,train_y)# now fit our model for traiing data\n",
    "prediction=Treemodel.predict(test_X)\n",
    "accuracy = metrics.accuracy_score(prediction,test_y).round(3)  \n",
    "print(accuracy)"
   ]
  },
  {
   "cell_type": "code",
   "execution_count": 141,
   "metadata": {},
   "outputs": [
    {
     "name": "stdout",
     "output_type": "stream",
     "text": [
      "perimeter_worst            0.725944\n",
      "concave points_worst       0.094045\n",
      "concavity_worst            0.049320\n",
      "smoothness_worst           0.025746\n",
      "area_worst                 0.020768\n",
      "fractal_dimension_se       0.017220\n",
      "compactness_worst          0.017129\n",
      "area_se                    0.014591\n",
      "radius_worst               0.010709\n",
      "smoothness_mean            0.009414\n",
      "perimeter_se               0.006851\n",
      "concavity_mean             0.005492\n",
      "texture_worst              0.002772\n",
      "compactness_mean           0.000000\n",
      "fractal_dimension_worst    0.000000\n",
      "area_mean                  0.000000\n",
      "perimeter_mean             0.000000\n",
      "texture_mean               0.000000\n",
      "symmetry_mean              0.000000\n",
      "concave points_mean        0.000000\n",
      "smoothness_se              0.000000\n",
      "fractal_dimension_mean     0.000000\n",
      "radius_se                  0.000000\n",
      "texture_se                 0.000000\n",
      "symmetry_worst             0.000000\n",
      "compactness_se             0.000000\n",
      "concavity_se               0.000000\n",
      "concave points_se          0.000000\n",
      "symmetry_se                0.000000\n",
      "radius_mean                0.000000\n",
      "dtype: float64\n"
     ]
    }
   ],
   "source": [
    "imp_features = pd.Series(Treemodel.feature_importances_, index=all_features).sort_values(ascending=False)\n",
    "print(imp_features)"
   ]
  },
  {
   "cell_type": "markdown",
   "metadata": {},
   "source": [
    "<font color ='green'> From analysis above we can see that features suffixed with 'worst' have most impact on the prediction, so we will do correlation analysis on these features to see which ones are highly correlated."
   ]
  },
  {
   "cell_type": "code",
   "execution_count": 142,
   "metadata": {
    "scrolled": true
   },
   "outputs": [
    {
     "name": "stdout",
     "output_type": "stream",
     "text": [
      "                         radius_worst  texture_worst  perimeter_worst  \\\n",
      "radius_worst                 1.000000       0.359921         0.993708   \n",
      "texture_worst                0.359921       1.000000         0.365098   \n",
      "perimeter_worst              0.993708       0.365098         1.000000   \n",
      "area_worst                   0.984015       0.345842         0.977578   \n",
      "smoothness_worst             0.216574       0.225429         0.236775   \n",
      "compactness_worst            0.475820       0.360832         0.529408   \n",
      "concavity_worst              0.573975       0.368366         0.618344   \n",
      "concave points_worst         0.787424       0.359755         0.816322   \n",
      "symmetry_worst               0.243529       0.233027         0.269493   \n",
      "fractal_dimension_worst      0.093492       0.219122         0.138957   \n",
      "\n",
      "                         area_worst  smoothness_worst  compactness_worst  \\\n",
      "radius_worst               0.984015          0.216574           0.475820   \n",
      "texture_worst              0.345842          0.225429           0.360832   \n",
      "perimeter_worst            0.977578          0.236775           0.529408   \n",
      "area_worst                 1.000000          0.209145           0.438296   \n",
      "smoothness_worst           0.209145          1.000000           0.568187   \n",
      "compactness_worst          0.438296          0.568187           1.000000   \n",
      "concavity_worst            0.543331          0.518523           0.892261   \n",
      "concave points_worst       0.747419          0.547691           0.801080   \n",
      "symmetry_worst             0.209146          0.493838           0.614441   \n",
      "fractal_dimension_worst    0.079647          0.617624           0.810455   \n",
      "\n",
      "                         concavity_worst  concave points_worst  \\\n",
      "radius_worst                    0.573975              0.787424   \n",
      "texture_worst                   0.368366              0.359755   \n",
      "perimeter_worst                 0.618344              0.816322   \n",
      "area_worst                      0.543331              0.747419   \n",
      "smoothness_worst                0.518523              0.547691   \n",
      "compactness_worst               0.892261              0.801080   \n",
      "concavity_worst                 1.000000              0.855434   \n",
      "concave points_worst            0.855434              1.000000   \n",
      "symmetry_worst                  0.532520              0.502528   \n",
      "fractal_dimension_worst         0.686511              0.511114   \n",
      "\n",
      "                         symmetry_worst  fractal_dimension_worst  \n",
      "radius_worst                   0.243529                 0.093492  \n",
      "texture_worst                  0.233027                 0.219122  \n",
      "perimeter_worst                0.269493                 0.138957  \n",
      "area_worst                     0.209146                 0.079647  \n",
      "smoothness_worst               0.493838                 0.617624  \n",
      "compactness_worst              0.614441                 0.810455  \n",
      "concavity_worst                0.532520                 0.686511  \n",
      "concave points_worst           0.502528                 0.511114  \n",
      "symmetry_worst                 1.000000                 0.537848  \n",
      "fractal_dimension_worst        0.537848                 1.000000  \n"
     ]
    },
    {
     "data": {
      "text/plain": [
       "<matplotlib.axes._subplots.AxesSubplot at 0x128c80eab00>"
      ]
     },
     "execution_count": 142,
     "metadata": {},
     "output_type": "execute_result"
    },
    {
     "data": {
      "image/png": "[encoded data removed]",
      "text/plain": [
       "<Figure size 720x720 with 2 Axes>"
      ]
     },
     "metadata": {
      "needs_background": "light"
     },
     "output_type": "display_data"
    }
   ],
   "source": [
    "worstval= list(Cancerdata.columns[21:31]) # choose columns with worst value\n",
    "corr = Cancerdata[worstval].corr(method='pearson') # .corr is used for find corelation\n",
    "print(corr)\n",
    "plt.figure(figsize=(10,10))\n",
    "sns.heatmap(corr, cbar = True,  square = True, annot=True, fmt= '.2f',annot_kws={'size': 15},\n",
    "           xticklabels= worstval, yticklabels= worstval,\n",
    "           cmap= 'coolwarm') "
   ]
  },
  {
   "cell_type": "markdown",
   "metadata": {},
   "source": [
    "<font color = 'green'> Based on analysis above, we find that radius_worst, perimeter_worst, and area_worst are highly correlated with each other. So, from these, we choose just one feature for prediction and drop other two. Similarly, compactness_worst, concavity_worst, and concave points_worst are highly correlated with each other, hence we will choose just one prediction feature. On the other hand texture_worst, smoothness_worst, symmetry_worst, and fractal_dimension_worst has low correlation with all other features, so we will use all of them for prediction."
   ]
  },
  {
   "cell_type": "code",
   "execution_count": 143,
   "metadata": {},
   "outputs": [],
   "source": [
    "selected_features1= ['perimeter_worst','compactness_worst','texture_worst', 'smoothness_worst','symmetry_worst','fractal_dimension_worst']\n",
    "selected_features2 = ['radius_worst','concavity_worst','texture_worst','smoothness_worst','symmetry_worst','fractal_dimension_worst']\n",
    "selected_features3 = ['area_worst','concave points_worst','texture_worst','smoothness_worst','symmetry_worst','fractal_dimension_worst']\n",
    "# create list for subset of selected features\n",
    "selected_features = [selected_features1, selected_features2,selected_features3]"
   ]
  },
  {
   "cell_type": "markdown",
   "metadata": {},
   "source": [
    "# <font color = 'green'> We will now experiment with 4 models and explore the model that predicts better outcome using three feature sets defined above. In the analysis below, we will run the model on all the three sets of features (selected_features1, selected_features2, selected_features3) defined above and observe its outcome on prediction accuracy. "
   ]
  },
  {
   "cell_type": "code",
   "execution_count": 144,
   "metadata": {},
   "outputs": [
    {
     "name": "stdout",
     "output_type": "stream",
     "text": [
      "[0.924]\n",
      "[0.936]\n",
      "[0.614]\n"
     ]
    }
   ],
   "source": [
    "from sklearn.svm import SVC \n",
    "SVMmodel = SVC(kernel='rbf', gamma='auto',random_state= 0)\n",
    "\n",
    "for i in selected_features:\n",
    "    # Training data using selected features\n",
    "    train_X = train[i]\n",
    "    # repeat it for test data\n",
    "    test_X= test[i] \n",
    "    #test_y =test.diagnosis \n",
    "    SVMmodel.fit(train_X,train_y) # now fit our model for traiing data\n",
    "    SVMprediction=SVMmodel.predict(test_X)\n",
    "    accuracy = []\n",
    "    t = metrics.accuracy_score(SVMprediction,test_y).round(3)\n",
    "    accuracy.append(t)    \n",
    "    print(accuracy)"
   ]
  },
  {
   "cell_type": "markdown",
   "metadata": {},
   "source": [
    "<font color ='green'>From analysis above, we can see that selected_features1 gives best prediction with SVM model, and worst is with selected_features3, which is in contrast with RandomForest model. "
   ]
  },
  {
   "cell_type": "code",
   "execution_count": 145,
   "metadata": {},
   "outputs": [
    {
     "name": "stdout",
     "output_type": "stream",
     "text": [
      "[0.93]\n",
      "[0.93]\n",
      "[0.947]\n"
     ]
    }
   ],
   "source": [
    "from sklearn.tree import DecisionTreeClassifier\n",
    "Treemodel = DecisionTreeClassifier(criterion='entropy', random_state= 0) # using entropy for Information Gain\n",
    "\n",
    "for i in selected_features:\n",
    "    # Training data using selected features\n",
    "    train_X = train[i]\n",
    "    # repeat it for test data\n",
    "    test_X= test[i] \n",
    "    #test_y =test.diagnosis \n",
    "    Treemodel.fit(train_X,train_y) # now fit our model for traiing data\n",
    "    Treeprediction=Treemodel.predict(test_X)\n",
    "    accuracy = []\n",
    "    t = metrics.accuracy_score(Treeprediction,test_y).round(3)\n",
    "    accuracy.append(t)    \n",
    "    print(accuracy)"
   ]
  },
  {
   "cell_type": "code",
   "execution_count": 146,
   "metadata": {},
   "outputs": [
    {
     "name": "stdout",
     "output_type": "stream",
     "text": [
      "[0.959]\n",
      "[0.959]\n",
      "[0.953]\n"
     ]
    }
   ],
   "source": [
    "from sklearn.linear_model import LogisticRegression\n",
    "Logisticmodel = LogisticRegression( solver='lbfgs', max_iter=300, multi_class='ovr', random_state= 0)\n",
    "\n",
    "for i in selected_features:\n",
    "    # Training data using selected features\n",
    "    train_X = train[i]\n",
    "    # repeat it for test data\n",
    "    test_X= test[i] \n",
    "    #test_y =test.diagnosis \n",
    "    Logisticmodel.fit(train_X,train_y) # now fit our model for traiing data\n",
    "    Logisticprediction=Logisticmodel.predict(test_X)\n",
    "    accuracy = []\n",
    "    t = metrics.accuracy_score(Logisticprediction,test_y).round(3)\n",
    "    accuracy.append(t)    \n",
    "    print(accuracy)"
   ]
  },
  {
   "cell_type": "code",
   "execution_count": 147,
   "metadata": {},
   "outputs": [
    {
     "name": "stdout",
     "output_type": "stream",
     "text": [
      "[0.953]\n",
      "[0.942]\n",
      "[0.953]\n"
     ]
    }
   ],
   "source": [
    "from sklearn.ensemble import RandomForestClassifier # for random forest classifier\n",
    "\n",
    "RFmodel=RandomForestClassifier(n_estimators=200, random_state= 0)# a simple random forest model\n",
    "\n",
    "train_y=train.diagnosis\n",
    "test_y =test.diagnosis \n",
    "\n",
    "for i in selected_features:\n",
    "    # Training data using selected features\n",
    "    train_X = train[i]\n",
    "    # repeat it for test data\n",
    "    test_X= test[i] \n",
    "    #test_y =test.diagnosis \n",
    "    RFmodel.fit(train_X,train_y)# now fit our model for traiing data\n",
    "    prediction=RFmodel.predict(test_X)\n",
    "    accuracy = []\n",
    "    t = metrics.accuracy_score(prediction,test_y).round(3)\n",
    "    accuracy.append(t)    \n",
    "    print(accuracy)"
   ]
  },
  {
   "cell_type": "markdown",
   "metadata": {},
   "source": [
    "<font color='green'>From analysis above, we can see that selected_features3 gives best prediction, and worst prediction is made with selected_features1."
   ]
  },
  {
   "cell_type": "markdown",
   "metadata": {},
   "source": [
    "# <font color = 'green'>Though the analysis was based on using a subset of features, from worst value columns, the analysis above shows that amongst SVM, Logistic Regression, Decision Tree, and RandomForest, we are getting better accuracy from LogisticRegression and RandomForest models.  "
   ]
  },
  {
   "cell_type": "markdown",
   "metadata": {},
   "source": [
    "# <font color = 'green'> Using RandomForest, we will now explore the most important features, amongst all worst value columns, and reuse them for making predictions using RandomForest and Decision Tree models. "
   ]
  },
  {
   "cell_type": "code",
   "execution_count": 148,
   "metadata": {},
   "outputs": [
    {
     "data": {
      "text/plain": [
       "['radius_worst',\n",
       " 'texture_worst',\n",
       " 'perimeter_worst',\n",
       " 'area_worst',\n",
       " 'smoothness_worst',\n",
       " 'compactness_worst',\n",
       " 'concavity_worst',\n",
       " 'concave points_worst',\n",
       " 'symmetry_worst',\n",
       " 'fractal_dimension_worst']"
      ]
     },
     "execution_count": 148,
     "metadata": {},
     "output_type": "execute_result"
    }
   ],
   "source": [
    "#meanval = [Cancerdata.columns[1:11]] is set of all columns of the mean values\n",
    "worstval"
   ]
  },
  {
   "cell_type": "code",
   "execution_count": 149,
   "metadata": {},
   "outputs": [
    {
     "name": "stdout",
     "output_type": "stream",
     "text": [
      "0.947\n"
     ]
    }
   ],
   "source": [
    "# Use all worst value columns as feature for model traning\n",
    "train_y = train.diagnosis\n",
    "test_y = test.diagnosis \n",
    "train_X = train[worstval]\n",
    "test_X = test[worstval]\n",
    "\n",
    "RFmodel.fit(train_X,train_y)# now fit our model for traiing data\n",
    "prediction=RFmodel.predict(test_X)\n",
    "accuracy = metrics.accuracy_score(prediction,test_y).round(3)  \n",
    "print(accuracy)"
   ]
  },
  {
   "cell_type": "code",
   "execution_count": 150,
   "metadata": {},
   "outputs": [
    {
     "name": "stdout",
     "output_type": "stream",
     "text": [
      "perimeter_worst            0.227375\n",
      "concave points_worst       0.212544\n",
      "area_worst                 0.201748\n",
      "radius_worst               0.167602\n",
      "concavity_worst            0.062855\n",
      "compactness_worst          0.046046\n",
      "smoothness_worst           0.028521\n",
      "texture_worst              0.021096\n",
      "symmetry_worst             0.019006\n",
      "fractal_dimension_worst    0.013208\n",
      "dtype: float64\n"
     ]
    },
    {
     "data": {
      "text/plain": [
       "['perimeter_worst',\n",
       " 'concave points_worst',\n",
       " 'area_worst',\n",
       " 'radius_worst',\n",
       " 'concavity_worst',\n",
       " 'compactness_worst',\n",
       " 'smoothness_worst',\n",
       " 'texture_worst',\n",
       " 'symmetry_worst',\n",
       " 'fractal_dimension_worst']"
      ]
     },
     "execution_count": 150,
     "metadata": {},
     "output_type": "execute_result"
    }
   ],
   "source": [
    "# identify most important features using RandomForest model output\n",
    "imp_features = pd.Series(RFmodel.feature_importances_, index=worstval).sort_values(ascending=False)\n",
    "print(imp_features)\n",
    "imp_features.index.tolist()"
   ]
  },
  {
   "cell_type": "code",
   "execution_count": 151,
   "metadata": {},
   "outputs": [
    {
     "data": {
      "text/plain": [
       "['perimeter_worst',\n",
       " 'concave points_worst',\n",
       " 'area_worst',\n",
       " 'radius_worst',\n",
       " 'concavity_worst',\n",
       " 'compactness_worst',\n",
       " 'smoothness_worst',\n",
       " 'texture_worst',\n",
       " 'symmetry_worst',\n",
       " 'fractal_dimension_worst']"
      ]
     },
     "execution_count": 151,
     "metadata": {},
     "output_type": "execute_result"
    }
   ],
   "source": [
    "imp = imp_features.index.tolist()\n",
    "imp"
   ]
  },
  {
   "cell_type": "markdown",
   "metadata": {},
   "source": [
    "# <font color= 'green'> Below, we will use important features to see if they improve prediction accuracy for both RandomForest and LogisticRegression models."
   ]
  },
  {
   "cell_type": "code",
   "execution_count": 152,
   "metadata": {},
   "outputs": [
    {
     "name": "stdout",
     "output_type": "stream",
     "text": [
      "0.965\n"
     ]
    }
   ],
   "source": [
    "# Rerun Logistic model using important features\n",
    "\n",
    "train_X = train[imp]\n",
    "test_X = test[imp]\n",
    "\n",
    "Logisticmodel = LogisticRegression(solver='lbfgs', max_iter=300, multi_class='ovr')\n",
    "\n",
    "Logisticmodel.fit(train_X,train_y)# now fit our model for traiing data\n",
    "prediction=Logisticmodel.predict(test_X)\n",
    "accuracy = metrics.accuracy_score(prediction,test_y).round(3)  \n",
    "print(accuracy)"
   ]
  },
  {
   "cell_type": "code",
   "execution_count": 153,
   "metadata": {},
   "outputs": [
    {
     "name": "stdout",
     "output_type": "stream",
     "text": [
      "0.947\n"
     ]
    }
   ],
   "source": [
    "# Rerun RandomForest model using important features\n",
    "RFmodel=RandomForestClassifier(criterion = 'entropy',n_estimators=200)\n",
    "\n",
    "RFmodel.fit(train_X,train_y)# now fit our model for traiing data\n",
    "prediction=RFmodel.predict(test_X)\n",
    "accuracy = metrics.accuracy_score(prediction,test_y).round(3)  \n",
    "print(accuracy)"
   ]
  },
  {
   "cell_type": "markdown",
   "metadata": {},
   "source": [
    "<font color ='green'> We can see that there is no impact on the accuracy of the models trained only using important features."
   ]
  },
  {
   "cell_type": "markdown",
   "metadata": {},
   "source": [
    "# <font color = 'green'> We will now experiment with hyperparameters and observe its impact on model performance."
   ]
  },
  {
   "cell_type": "code",
   "execution_count": 154,
   "metadata": {},
   "outputs": [
    {
     "name": "stdout",
     "output_type": "stream",
     "text": [
      "[0.953]\n",
      "[0.947]\n",
      "[0.953]\n",
      "[0.953]\n",
      "[0.947]\n"
     ]
    }
   ],
   "source": [
    "\"\"\"\n",
    "As part of hyperparameter change, we will change value for n_estimators (hyperparameter) and \n",
    "check its impact on prediction for RandomForest model\n",
    "\"\"\"\n",
    "est_range = [50.0, 100.0, 200.0,300.0, 400.0]\n",
    "\n",
    "for i in est_range:\n",
    "    RFmodel=RandomForestClassifier(n_estimators=int(i),random_state= 0)\n",
    "    RFmodel.fit(train_X,train_y)\n",
    "    prediction=RFmodel.predict(test_X)\n",
    "    accuracy = []\n",
    "    t = metrics.accuracy_score(prediction,test_y).round(3)\n",
    "    accuracy.append(t)    \n",
    "    print(accuracy)"
   ]
  },
  {
   "cell_type": "code",
   "execution_count": 155,
   "metadata": {},
   "outputs": [
    {
     "name": "stdout",
     "output_type": "stream",
     "text": [
      "0.953\n"
     ]
    }
   ],
   "source": [
    "\"\"\"\n",
    "As part of hyperparameter change, we will change impurity from gini to entropy method and \n",
    "check its impact on prediction for RandomForest model.\n",
    "\"\"\"\n",
    "RFmodel=RandomForestClassifier(criterion = 'entropy', n_estimators=300,random_state= 0)\n",
    "RFmodel.fit(train_X,train_y)\n",
    "prediction=RFmodel.predict(test_X)\n",
    "accuracy = metrics.accuracy_score(prediction,test_y).round(3)\n",
    "print(accuracy)"
   ]
  },
  {
   "cell_type": "markdown",
   "metadata": {},
   "source": [
    "<font color ='green'> From the above, we see that RandomForest is most accurate with either gini or entropy as impurity measure and with large n_estimator value."
   ]
  },
  {
   "cell_type": "code",
   "execution_count": 156,
   "metadata": {},
   "outputs": [
    {
     "name": "stdout",
     "output_type": "stream",
     "text": [
      "[0.953]\n",
      "[0.953]\n",
      "[0.953]\n",
      "[0.953]\n",
      "[0.953]\n",
      "[0.953]\n",
      "[0.953]\n",
      "[0.953]\n"
     ]
    }
   ],
   "source": [
    "\"\"\"\n",
    "As part of hyperparameter change, we will change value for max_iter (hyperparameter) and \n",
    "check its impact on prediction accuracy of model.\n",
    "\"\"\"\n",
    "est_range = [100.0, 200.0,300.0, 400.0, 500.0, 600.0, 700.0, 800.0]\n",
    "\n",
    "for i in est_range:\n",
    "    Logisticmodel = LogisticRegression(solver='lbfgs', max_iter=int(i), multi_class='ovr',random_state= 0)\n",
    "    RFmodel.fit(train_X,train_y)\n",
    "    prediction=RFmodel.predict(test_X)\n",
    "    accuracy = []\n",
    "    t = metrics.accuracy_score(prediction,test_y).round(3)\n",
    "    accuracy.append(t)    \n",
    "    print(accuracy)"
   ]
  },
  {
   "cell_type": "code",
   "execution_count": 157,
   "metadata": {},
   "outputs": [
    {
     "name": "stdout",
     "output_type": "stream",
     "text": [
      "[0.953]\n",
      "[0.953]\n",
      "[0.953]\n",
      "[0.953]\n"
     ]
    }
   ],
   "source": [
    "\"\"\"\n",
    "As part of hyperparameter change, we will change solvers (hyperparameter) and \n",
    "check its impact on prediction accuracy of model.\n",
    "\"\"\"\n",
    "solvers = ['lbfgs', 'liblinear', 'sag', 'saga']\n",
    "\n",
    "for i in solvers:\n",
    "    Logisticmodel = LogisticRegression(solver=solvers, max_iter=300, multi_class='ovr',random_state= 0)\n",
    "    RFmodel.fit(train_X,train_y)\n",
    "    prediction=RFmodel.predict(test_X)\n",
    "    accuracy = []\n",
    "    t = metrics.accuracy_score(prediction,test_y).round(3)\n",
    "    accuracy.append(t)    \n",
    "    print(accuracy)"
   ]
  },
  {
   "cell_type": "markdown",
   "metadata": {},
   "source": [
    "<font color ='green'> From the above, we see that Logistic regresion has very little impact on accuracy due to solver hyperparameter change."
   ]
  },
  {
   "cell_type": "code",
   "execution_count": 158,
   "metadata": {},
   "outputs": [
    {
     "name": "stdout",
     "output_type": "stream",
     "text": [
      "Accuracy of RandomForest model is 95.3 percent, and accuracy of Logistic Regression model is 96.5 percent.\n"
     ]
    }
   ],
   "source": [
    "'''\n",
    "feature used are ['perimeter_worst',\n",
    " 'concave points_worst',\n",
    " 'radius_worst',\n",
    " 'area_worst',\n",
    " 'concavity_worst',\n",
    " 'texture_worst',\n",
    " 'compactness_worst',\n",
    " 'smoothness_worst',\n",
    " 'symmetry_worst',\n",
    " 'fractal_dimension_worst']\n",
    "'''\n",
    "\n",
    "# final logistic model\n",
    "Logisticmodel = LogisticRegression(solver='lbfgs', max_iter=300, multi_class='ovr',random_state= 0)\n",
    "\n",
    "Logisticmodel.fit(train_X,train_y)# now fit our model for traiing data\n",
    "LRprediction=Logisticmodel.predict(test_X)\n",
    "Logistic_accuracy = metrics.accuracy_score(LRprediction,test_y).round(3)  \n",
    "\n",
    "\n",
    "# final RandomForest model\n",
    "\n",
    "RFmodel=RandomForestClassifier(criterion = 'gini',n_estimators=300,random_state= 0)\n",
    "\n",
    "RFmodel.fit(train_X,train_y)# now fit our model for traiing data\n",
    "RFprediction=RFmodel.predict(test_X)\n",
    "RF_accuracy = metrics.accuracy_score(RFprediction,test_y).round(3)  \n",
    "\n",
    "print(f'Accuracy of RandomForest model is {(RF_accuracy*100).round(3)} percent, and accuracy of Logistic Regression model is {(Logistic_accuracy*100).round(3)} percent.')\n"
   ]
  },
  {
   "cell_type": "markdown",
   "metadata": {},
   "source": [
    "<font color = 'green'> For better visualization, we will print the confusion matrix."
   ]
  },
  {
   "cell_type": "code",
   "execution_count": 159,
   "metadata": {},
   "outputs": [
    {
     "name": "stdout",
     "output_type": "stream",
     "text": [
      "[[99  1]\n",
      " [ 5 66]]\n",
      "              precision    recall  f1-score   support\n",
      "\n",
      "           0       0.95      0.99      0.97       100\n",
      "           1       0.99      0.93      0.96        71\n",
      "\n",
      "    accuracy                           0.96       171\n",
      "   macro avg       0.97      0.96      0.96       171\n",
      "weighted avg       0.97      0.96      0.96       171\n",
      "\n"
     ]
    }
   ],
   "source": [
    "print(confusion_matrix(test_y,LRprediction))\n",
    "print(classification_report(test_y,LRprediction))"
   ]
  },
  {
   "cell_type": "markdown",
   "metadata": {},
   "source": [
    "<font color = 'green'> As we can see from the confusion matrix for Logistic regression model above, 6 cases are misclassified out of 171. Out of 6 misclassifed cases, 5 cases are false positive and 1 case is false negative. "
   ]
  },
  {
   "cell_type": "code",
   "execution_count": 160,
   "metadata": {},
   "outputs": [
    {
     "name": "stdout",
     "output_type": "stream",
     "text": [
      "[[99  1]\n",
      " [ 7 64]]\n",
      "              precision    recall  f1-score   support\n",
      "\n",
      "           0       0.93      0.99      0.96       100\n",
      "           1       0.98      0.90      0.94        71\n",
      "\n",
      "    accuracy                           0.95       171\n",
      "   macro avg       0.96      0.95      0.95       171\n",
      "weighted avg       0.95      0.95      0.95       171\n",
      "\n"
     ]
    }
   ],
   "source": [
    "print(confusion_matrix(test_y,RFprediction))\n",
    "print(classification_report(test_y,RFprediction))"
   ]
  },
  {
   "cell_type": "markdown",
   "metadata": {},
   "source": [
    "<font color = 'green'>As we can see from the confusion matrix for the Random forest model above, 8 cases are misclassified out of 171. Out of 8 misclassifed cases, 7 cases are false positive and 1 case is false negative. "
   ]
  },
  {
   "cell_type": "markdown",
   "metadata": {},
   "source": [
    "# <font color = 'green'> Conclusion: based on above the analyis, we can either use Logistic regression or RandomForest, as both model make approximately 95% accurate prediction. "
   ]
  }
 ],
 "metadata": {
  "kernelspec": {
   "display_name": "Python 3",
   "language": "python",
   "name": "python3"
  },
  "language_info": {
   "codemirror_mode": {
    "name": "ipython",
    "version": 3
   },
   "file_extension": ".py",
   "mimetype": "text/x-python",
   "name": "python",
   "nbconvert_exporter": "python",
   "pygments_lexer": "ipython3",
   "version": "3.7.4"
  }
 },
 "nbformat": 4,
 "nbformat_minor": 2
}
