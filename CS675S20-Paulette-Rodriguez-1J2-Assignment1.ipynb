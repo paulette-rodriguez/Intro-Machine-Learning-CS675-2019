{
 "cells": [
  {
   "cell_type": "markdown",
   "metadata": {},
   "source": [
    "# Assignment 1\n",
    "The first practice and assignment is to cover basic knowledge that you will need throughout the course.<i>General instruction for Windows:</i> \n",
    "1. To run a cell and move to the next cell: Hold down <strong>Shift</strong> and press <strong>Enter</strong>\n",
    "2. To run a cell and stay in the same cell: Hold down <b>Ctrl</b> and press <b>Enter</b>\n",
    "3. Use the arrow up and down to navigate or do it manually as you prefer\n",
    "4. Escape from typing a cell: Hit <b>Esc</b>\n",
    "\n",
    "Visit https://towardsdatascience.com/jypyter-notebook-shortcuts-bf0101a98330 for a detailed instruction of shortcuts for jupyter notebook. Google for other operating system.\n",
    "\n",
    "Navigation\n",
    "[Q1](#q1) [Q2](#q2) [Q3](#q3) [Q4](#q4) [Q5](#q5) [Q6](#q6) [Q7](#q7) [Q8](#q8) [Q9](#q9) [Q10](#q10)\n",
    "\n",
    "<b>Note</b> This assignment only has 4 questions. You must run/evaluate all cells. <b>Order of cell execution is important.<b>"
   ]
  },
  {
   "cell_type": "markdown",
   "metadata": {},
   "source": [
    "# Part 1 Numpy\n",
    "\n",
    "Let's look at matrix A and how it is presented in Numpy\n",
    "\\begin{equation*}\n",
    "A = \n",
    "\\begin{pmatrix}\n",
    "1 & 2 & 3 \\\\\n",
    "4 & 5 & 6 \\\\\n",
    "7 & 8 & 9\n",
    "\\end{pmatrix}\n",
    "\\end{equation*}"
   ]
  },
  {
   "cell_type": "code",
   "execution_count": null,
   "metadata": {},
   "outputs": [],
   "source": [
    "import numpy as np\n",
    "A = np.array([[1,2,3],[4,5,6],[7,8,9]], dtype = np.float)\n",
    "print('This is how matrix A will be presented in Numpy:\\n\\n {}\\n'.format(A))\n",
    "\n",
    "# Example of describing A\n",
    "print('We just create a {}'.format(type(A)))\n",
    "print('Our template has shape as {} with total size of {}'.format(A.shape, A.size))\n",
    "print('The total dimension of A is {}'.format(A.ndim))\n",
    "\n",
    "# Multi-line print out\n",
    "print('''The data types of elements of A are {}, \n",
    "        which consumes {} bytes'''.format(A.dtype, A.nbytes))"
   ]
  },
  {
   "cell_type": "code",
   "execution_count": null,
   "metadata": {},
   "outputs": [],
   "source": [
    "# create a copy of A with integer type\n",
    "A_copy = np.array(A, dtype=np.int32)"
   ]
  },
  {
   "cell_type": "markdown",
   "metadata": {},
   "source": [
    "#### NumPy array operations"
   ]
  },
  {
   "cell_type": "code",
   "execution_count": null,
   "metadata": {},
   "outputs": [],
   "source": [
    "# Turn a python list to numpy array\n",
    "checking_acct = [10.1, 2.3, -3, 100]\n",
    "checking_acct_array = np.asarray(checking_acct)\n",
    "type(checking_acct_array)"
   ]
  },
  {
   "cell_type": "code",
   "execution_count": null,
   "metadata": {},
   "outputs": [],
   "source": [
    "# adding $2 to each deposit/withdrawl transaction\n",
    "checking_acct_array + 2"
   ]
  },
  {
   "cell_type": "code",
   "execution_count": null,
   "metadata": {},
   "outputs": [],
   "source": [
    "# subtract $0.5 from each transaction\n",
    "checking_acct_array - 0.5"
   ]
  },
  {
   "cell_type": "code",
   "execution_count": null,
   "metadata": {},
   "outputs": [],
   "source": [
    "# double it up\n",
    "checking_acct_array * 2"
   ]
  },
  {
   "cell_type": "code",
   "execution_count": null,
   "metadata": {},
   "outputs": [],
   "source": [
    "# divide the amounts by 3\n",
    "checking_acct_array / 3 "
   ]
  },
  {
   "cell_type": "markdown",
   "metadata": {},
   "source": [
    "Note: You can't do the above operation with list. You will have to iterate the list's elements. For example"
   ]
  },
  {
   "cell_type": "code",
   "execution_count": null,
   "metadata": {},
   "outputs": [],
   "source": [
    "# to add $2 to each transaction with checking_acct, we must use list comprehension.\n",
    "[x + 2 for x in checking_acct]"
   ]
  },
  {
   "cell_type": "code",
   "execution_count": null,
   "metadata": {},
   "outputs": [],
   "source": [
    "# create 10 transaction each worth $1\n",
    "np.ones(10)"
   ]
  },
  {
   "cell_type": "code",
   "execution_count": null,
   "metadata": {},
   "outputs": [],
   "source": [
    "# create an identity matrix\n",
    "np.identity(4)"
   ]
  },
  {
   "cell_type": "code",
   "execution_count": null,
   "metadata": {},
   "outputs": [],
   "source": [
    "# create an array size 1 x 9 including only even number starting from 2\n",
    "x = np.arange(2,20,2)\n",
    "x"
   ]
  },
  {
   "cell_type": "code",
   "execution_count": null,
   "metadata": {},
   "outputs": [],
   "source": [
    "# reshape x to size 3 x 3 we get the following matrix\n",
    "x = x.reshape(3,3)\n",
    "x"
   ]
  },
  {
   "cell_type": "code",
   "execution_count": null,
   "metadata": {},
   "outputs": [],
   "source": [
    "# transpose x\n",
    "y = x.T"
   ]
  },
  {
   "cell_type": "code",
   "execution_count": null,
   "metadata": {},
   "outputs": [],
   "source": [
    "# compare two array\n",
    "x == y"
   ]
  },
  {
   "cell_type": "code",
   "execution_count": null,
   "metadata": {},
   "outputs": [],
   "source": [
    "x == y.T"
   ]
  },
  {
   "cell_type": "code",
   "execution_count": null,
   "metadata": {},
   "outputs": [],
   "source": [
    "np.array_equal(x,y.T)"
   ]
  },
  {
   "cell_type": "code",
   "execution_count": null,
   "metadata": {},
   "outputs": [],
   "source": [
    "x < y"
   ]
  },
  {
   "cell_type": "code",
   "execution_count": null,
   "metadata": {},
   "outputs": [],
   "source": [
    "c = np.ones((3,3))\n",
    "c"
   ]
  },
  {
   "cell_type": "code",
   "execution_count": null,
   "metadata": {},
   "outputs": [],
   "source": [
    "# matrix multiplication\n",
    "c.dot(c)"
   ]
  },
  {
   "cell_type": "code",
   "execution_count": null,
   "metadata": {},
   "outputs": [],
   "source": [
    "# stacking/merging two multidimensional arrays\n",
    "x = np.arange(10).reshape(2,5)\n",
    "y = np.arange(15).reshape(3,5)\n",
    "xy = np.vstack((x,y))\n",
    "xy"
   ]
  },
  {
   "cell_type": "code",
   "execution_count": null,
   "metadata": {},
   "outputs": [],
   "source": [
    "x = np.arange(10).reshape(5,2)\n",
    "y = np.arange(15).reshape(5,3)\n",
    "xy = np.hstack((x,y))\n",
    "xy"
   ]
  },
  {
   "cell_type": "code",
   "execution_count": null,
   "metadata": {},
   "outputs": [],
   "source": [
    "# checking statistics for xy\n",
    "from scipy import stats\n",
    "stats.describe(xy)"
   ]
  },
  {
   "cell_type": "code",
   "execution_count": null,
   "metadata": {},
   "outputs": [],
   "source": [
    "# generate 20 random records, each has 10 features represented by some random number\n",
    "x = np.random.rand(20,3)\n",
    "\n",
    "# check statistics by feature for these records\n",
    "n, min_max, mean, var, skew, kurt = stats.describe(x)\n",
    "\n",
    "# observe the gather statistics\n",
    "print('''x:\\n {}\\n\\n,n:\\n {}\\n\\n, min_max:\\n {}\\n\\n, mean:\\n {}\\n\\n \n",
    ", var:\\n {}\\n\\n, skew:\\n {}\\n\\n, kurt:\\n {}\\n\\n'''.format(x, n, min_max, mean, var, skew, kurt))"
   ]
  },
  {
   "cell_type": "markdown",
   "metadata": {},
   "source": [
    "#### Slice and dice matrix\n",
    "\n",
    "Take out 2 elements in 1st row, 2nd column, and 3rd row, 3rd column of matrix A from above\n",
    "\n",
    "$\\begin{equation*}\n",
    "A = \n",
    "\\begin{pmatrix}\n",
    "1 & 2 & 3 \\\\\n",
    "4 & 5 & 6 \\\\\n",
    "7 & 8 & 9\n",
    "\\end{pmatrix}\n",
    "\\end{equation*}\n",
    "$"
   ]
  },
  {
   "cell_type": "code",
   "execution_count": null,
   "metadata": {},
   "outputs": [],
   "source": [
    "# numpy is indexed from 0. Slice by row and then by column\n",
    "A[[0,2],[1,2]]"
   ]
  },
  {
   "cell_type": "markdown",
   "metadata": {},
   "source": [
    "#### Resize and reshape matrix\n",
    "Matrix will be truncated or element values will be repeated if the reshape makes the matrix to be a bigger matrix."
   ]
  },
  {
   "cell_type": "code",
   "execution_count": null,
   "metadata": {},
   "outputs": [],
   "source": [
    "x = (np.arange(9)+1).reshape(3,3)\n",
    "print(x)\n",
    "print('\\nresize smaller\\n {}'.format(np.resize(x,(2,2))))\n",
    "print('\\nresize bigger\\n {}'.format(np.resize(x,(4,4))))"
   ]
  },
  {
   "cell_type": "markdown",
   "metadata": {},
   "source": [
    "#### Multiplying two matrices\n",
    "An one dimension array is treated as a vector"
   ]
  },
  {
   "cell_type": "code",
   "execution_count": null,
   "metadata": {},
   "outputs": [],
   "source": [
    "# a vector/array y\n",
    "y = np.arange(4)\n",
    "y"
   ]
  },
  {
   "cell_type": "code",
   "execution_count": null,
   "metadata": {},
   "outputs": [],
   "source": [
    "# a matrix of ones\n",
    "x = np.ones(16).reshape(4,4)\n",
    "x"
   ]
  },
  {
   "cell_type": "code",
   "execution_count": null,
   "metadata": {},
   "outputs": [],
   "source": [
    "x*y"
   ]
  },
  {
   "cell_type": "code",
   "execution_count": null,
   "metadata": {},
   "outputs": [],
   "source": [
    "x*y.T"
   ]
  },
  {
   "cell_type": "code",
   "execution_count": null,
   "metadata": {},
   "outputs": [],
   "source": [
    "y*x"
   ]
  },
  {
   "cell_type": "code",
   "execution_count": null,
   "metadata": {},
   "outputs": [],
   "source": [
    "y.T*x"
   ]
  },
  {
   "cell_type": "code",
   "execution_count": null,
   "metadata": {},
   "outputs": [],
   "source": [
    "x = np.arange(4).reshape(2,2)\n",
    "y1 = np.arange(2)\n",
    "y2 = np.arange(2).reshape(1,2) # in numpy this is the same as y1\n",
    "print('x:\\n{}\\n'.format(x))\n",
    "print('y1:\\n{}\\n'.format(y1))\n",
    "print('y2:\\n{}\\n'.format(y2))"
   ]
  },
  {
   "cell_type": "code",
   "execution_count": null,
   "metadata": {},
   "outputs": [],
   "source": [
    "x*y1"
   ]
  },
  {
   "cell_type": "code",
   "execution_count": null,
   "metadata": {},
   "outputs": [],
   "source": [
    "x*y2"
   ]
  },
  {
   "cell_type": "markdown",
   "metadata": {},
   "source": [
    "# Part 2: Linear Algebra\n",
    "\n",
    "In Computer Science, machine learning applications uses linear algebra heavily. This is because high-dimensional arrays can beasily be turned into linear equations. \n",
    "\n",
    "Visit https://docs.scipy.org/doc/scipy/reference/linalg.html for linear algebra module for scipy."
   ]
  },
  {
   "cell_type": "code",
   "execution_count": null,
   "metadata": {},
   "outputs": [],
   "source": [
    "# generate two matrices\n",
    "a = np.arange(10).reshape(2,5)\n",
    "b = np.arange(15).reshape(5,3)\n",
    "print(a)\n",
    "print(b)"
   ]
  },
  {
   "cell_type": "code",
   "execution_count": null,
   "metadata": {},
   "outputs": [],
   "source": [
    "# check if operation dot is equal to operation matmul\n",
    "np.array_equal(np.dot(a,b),np.matmul(a,b))"
   ]
  },
  {
   "cell_type": "code",
   "execution_count": null,
   "metadata": {},
   "outputs": [],
   "source": [
    "# multiple a by b\n",
    "np.matmul(a,b)"
   ]
  },
  {
   "cell_type": "code",
   "execution_count": null,
   "metadata": {},
   "outputs": [],
   "source": [
    "# another way to multiple a by b\n",
    "a@b"
   ]
  },
  {
   "cell_type": "markdown",
   "metadata": {},
   "source": [
    "In machine learning, a vector is normally used to describe a sample. Assume that vector <b>a</b> represents cancer and vector <b>b</b> represents healthy, if we are given a vector c and would like to classify it as either 'cancer' or 'healthy', we can see how the pair <b>a</b> and <b>c</b> are similar in comparison with how the pair <b>b</b> and <b>c</b> are similar via the dot product. To multiple multiple vectors use <code>linalg.multi_dot()</code>"
   ]
  },
  {
   "cell_type": "code",
   "execution_count": null,
   "metadata": {},
   "outputs": [],
   "source": [
    "from numpy.linalg import multi_dot\n",
    "c = np.arange(6).reshape(3,2)\n",
    "np.array_equal(multi_dot([a,b,c]), a.dot(b).dot(c) )"
   ]
  },
  {
   "cell_type": "code",
   "execution_count": null,
   "metadata": {},
   "outputs": [],
   "source": [
    "a = np.arange(9).reshape(3,3)\n",
    "b = np.arange(3)\n",
    "print('{}\\n\\n{}'.format(a,b))"
   ]
  },
  {
   "cell_type": "code",
   "execution_count": null,
   "metadata": {},
   "outputs": [],
   "source": [
    "# inner product of 2 vectors\n",
    "np.inner(a,b)"
   ]
  },
  {
   "cell_type": "code",
   "execution_count": null,
   "metadata": {},
   "outputs": [],
   "source": [
    "# outer product of 2 vectors\n",
    "np.outer(a,b)"
   ]
  },
  {
   "cell_type": "markdown",
   "metadata": {},
   "source": [
    "#### Solving linear equations\n",
    "An example: Solve three linear equations with 3 unknowns as follows:<br>\n",
    "$x_1 + 2x_2 + 3x_3 = 10$<br>\n",
    "$4x_1 + 4x_2 + 5x_3=4$<br>\n",
    "$3x_1 + 8x_2 + 9x_3 = 3$<br>\n",
    "\n",
    "We have a linear equation to solve as in the form $Ax = B$ where\n",
    "\\begin{equation*}\n",
    "A = \n",
    "\\begin{pmatrix}\n",
    "1 & 2 & 3 \\\\\n",
    "4 & 4 & 5 \\\\\n",
    "3 & 8 & 9\n",
    "\\end{pmatrix}\n",
    ",\n",
    "B = \n",
    "\\begin{pmatrix}\n",
    "10 \\\\\n",
    "4 \\\\\n",
    "3 \n",
    "\\end{pmatrix}\n",
    ",\n",
    "x = \n",
    "\\begin{pmatrix}\n",
    "x_1 \\\\\n",
    "x_2 \\\\\n",
    "x_3 \n",
    "\\end{pmatrix}\n",
    "\\end{equation*}\n",
    "\n",
    "<br>\n",
    "In simple cases, we have $x = A^{-1}B$"
   ]
  },
  {
   "cell_type": "code",
   "execution_count": 43,
   "metadata": {},
   "outputs": [
    {
     "data": {
      "text/plain": [
       "array([[-2.85714286e-01,  4.28571429e-01, -1.42857143e-01],\n",
       "       [-1.50000000e+00, -8.32667268e-18,  5.00000000e-01],\n",
       "       [ 1.42857143e+00, -1.42857143e-01, -2.85714286e-01]])"
      ]
     },
     "execution_count": 43,
     "metadata": {},
     "output_type": "execute_result"
    }
   ],
   "source": [
    "A = np.array([[1,2,3],[4,4,5],[3,8,9]])\n",
    "B = np.array([10,4,3])\n",
    "A_inv = np.linalg.inv(A)\n",
    "A_inv"
   ]
  },
  {
   "cell_type": "code",
   "execution_count": null,
   "metadata": {},
   "outputs": [],
   "source": [
    "x = np.dot(A_inv, B)"
   ]
  },
  {
   "cell_type": "code",
   "execution_count": 45,
   "metadata": {},
   "outputs": [
    {
     "data": {
      "text/plain": [
       "True"
      ]
     },
     "execution_count": 45,
     "metadata": {},
     "output_type": "execute_result"
    }
   ],
   "source": [
    "# check results with allclose() function)\n",
    "np.allclose(np.dot(A,x),B)"
   ]
  },
  {
   "cell_type": "markdown",
   "metadata": {},
   "source": [
    "<a id='q1'></a>\n",
    "<b>Question 1</b>: Solve four linear equations with 4 unknowns as follows:<br>\n",
    "$x_1 + 2x_2 + 3x_3 + 5x_4 = 10$<br>\n",
    "$4x_1 + 4x_2 + 5x_3 + 3x_4=4$<br>\n",
    "$3x_1 + 8x_2 + 9x_3 + x_4= 3$<br>\n",
    "$x_1 + x_2 + 3x_3 = 7$<br><br>\n",
    "\n",
    "Afterwards, check results with allclose() function. And print out x.\n",
    "\n",
    "<b>Expected result</b><br>x = array([-1.17857143, -3.875     ,  4.01785714,  1.375     ])\n",
    "\n",
    "[Q1](#q1) [Q2](#q2) [Q3](#q3) [Q4](#q4) [Q5](#q5) [Q6](#q6) [Q7](#q7) [Q8](#q8) [Q9](#q9) [Q10](#q10)<br><br>|\n",
    "<b>Answer</b>:"
   ]
  },
  {
   "cell_type": "code",
   "execution_count": 103,
   "metadata": {},
   "outputs": [
    {
     "name": "stdout",
     "output_type": "stream",
     "text": [
      "[-1.17857143 -3.875       4.01785714  1.375     ]\n"
     ]
    },
    {
     "data": {
      "text/plain": [
       "True"
      ]
     },
     "execution_count": 103,
     "metadata": {},
     "output_type": "execute_result"
    }
   ],
   "source": [
    "# Your code here:\n",
    "\n",
    "#Import numpy:\n",
    "import numpy as np \n",
    "\n",
    "#Define matrix A using numpy arrays:\n",
    "A = np.array([[1, 2, 3, 5], [4, 4, 5, 3], [3, 8, 9, 1], [1, 1, 3, 0]]) \n",
    "\n",
    "#Define matrix B using numpy arrays:\n",
    "B = np.array([10, 4, 3, 7]) \n",
    "\n",
    "#Define x to solve the matrix multiplication:\n",
    "x = np.linalg.solve(A, B )\n",
    "print(x)\n",
    "\n",
    "#Checking results with allclose() function:\n",
    "np.allclose(np.dot(A,x),B)"
   ]
  },
  {
   "cell_type": "markdown",
   "metadata": {},
   "source": [
    "# Part 3: Exploring some data"
   ]
  },
  {
   "cell_type": "code",
   "execution_count": null,
   "metadata": {},
   "outputs": [],
   "source": [
    "from sklearn.datasets import load_boston\n",
    "ds = load_boston()\n",
    "samples, label, feature_names = ds.data, ds.target, ds.feature_names\n",
    "print(samples.shape)\n",
    "print(feature_names)"
   ]
  },
  {
   "cell_type": "code",
   "execution_count": null,
   "metadata": {},
   "outputs": [],
   "source": [
    "# Data description\n",
    "print(ds.DESCR)"
   ]
  },
  {
   "cell_type": "code",
   "execution_count": null,
   "metadata": {},
   "outputs": [],
   "source": [
    "# check to see if there is any null data\n",
    "np.isnan(np.sum(samples))"
   ]
  },
  {
   "cell_type": "code",
   "execution_count": null,
   "metadata": {},
   "outputs": [],
   "source": [
    "# set print options to make things look nicer\n",
    "np.set_printoptions(suppress=True, linewidth=125)"
   ]
  },
  {
   "cell_type": "code",
   "execution_count": null,
   "metadata": {},
   "outputs": [],
   "source": [
    "# find median, variance of the data and put it out in nice looking format\n",
    "median = np.round(np.median(samples, axis=0), decimals=1)\n",
    "variance = np.round(np.var(samples, axis=0), decimals=1)\n",
    "basic_stats = np.vstack((median, variance))\n",
    "basic_stats_label = ['  median','variance']\n",
    "print('\\t\\tCRIM\\tZN\\tINDUS\\tCHAS\\tNOX\\tRM\\tAGE\\tDIS\\tRAD\\tTAX\\tPTRATIO\\tB\\tLSTAT')\n",
    "for basic_stats_label, row in zip(basic_stats_label, basic_stats):\n",
    "    print('{} [\\t{}]'.format(basic_stats_label,\"\".join('%s\\t'%i for i in row)))"
   ]
  },
  {
   "cell_type": "markdown",
   "metadata": {},
   "source": [
    "<a id='q2'></a>\n",
    "<b>Question 2</b>: Use function <code>stats.describe</code> to retrieve the max min and average of samples then display it as in the expected output <br><br>\n",
    "[Q1](#q1) [Q2](#q2) [Q3](#q3) [Q4](#q4) [Q5](#q5) [Q6](#q6) [Q7](#q7) [Q8](#q8) [Q9](#q9) [Q10](#q10)<br><br>\n",
    "\n",
    "<b>Expected Output:</b> Something that looks like so or better<br>\n",
    "<code>\t CRIM\tZN\tINDUS\tCHAS\tNOX\tRM\tAGE\tDIS\tRAD\tTAX\tPTRATIO\tB\tLSTAT\n",
    " min [\t0.0\t0.0\t0.5\t0.0\t0.4\t3.6\t2.9\t1.1\t1.0\t187.0\t12.6\t0.3\t1.7\t]\n",
    " max [\t89.0\t100.0\t27.7\t1.0\t0.9\t8.8\t100.0\t12.1\t24.0\t711.0\t22.0\t396.9\t38.0\t]\n",
    "mean [\t3.6\t11.4\t11.1\t0.1\t0.6\t6.3\t68.6\t3.8\t9.5\t408.2\t18.5\t356.7\t12.7\t]\n",
    "</code>\n",
    "<b>Answer</b>:"
   ]
  },
  {
   "cell_type": "code",
   "execution_count": 61,
   "metadata": {},
   "outputs": [
    {
     "name": "stdout",
     "output_type": "stream",
     "text": [
      "\tCRIM\tZN\tINDUS\tCHAS\tNOX\tRM\tAGE\tDIS\tRAD\tTAX\tPTRATIO\tB\tLSTAT\n",
      "Min [\t0.0\t0.0\t0.5\t0.0\t0.4\t3.6\t2.9\t1.1\t1.0\t187.0\t12.6\t0.3\t1.7\t]\n",
      "Max [\t89.0\t100.0\t27.7\t1.0\t0.9\t8.8\t100.0\t12.1\t24.0\t711.0\t22.0\t396.9\t38.0\t]\n",
      "Mean [\t3.6\t11.4\t11.1\t0.1\t0.6\t6.3\t68.6\t3.8\t9.5\t408.2\t18.5\t356.7\t12.7\t]\n"
     ]
    }
   ],
   "source": [
    "# Your code here. Add more cell if needed:\n",
    "\n",
    "#Import numpy, scipy, and the data:\n",
    "import numpy as np\n",
    "from scipy import stats\n",
    "from sklearn.datasets import load_boston\n",
    "\n",
    "data = load_boston()\n",
    "samples, label, feature_names = ds.data, ds.target, ds.feature_names\n",
    "\n",
    "#Using function stats.describe to retrieve the max, min, and mean of the samples from the data:\n",
    "stats.describe(samples)\n",
    "mean = np.round(np.mean(samples, axis = 0), decimals = 1)\n",
    "mini = np.round(np.min(samples, axis = 0), decimals = 1)\n",
    "maxi = np.round(np.max(samples, axis = 0), decimals = 1)\n",
    "\n",
    "#Formatting to output expected result:\n",
    "stats = np.vstack((mini, maxi, mean))\n",
    "stats_label = ['Min','Max','Mean']\n",
    "print('\\tCRIM\\tZN\\tINDUS\\tCHAS\\tNOX\\tRM\\tAGE\\tDIS\\tRAD\\tTAX\\tPTRATIO\\tB\\tLSTAT')\n",
    "for stats_label, row in zip(stats_label, stats):\n",
    "    print('{} [\\t{}]'.format(stats_label,\"\".join('%s\\t'%i for i in row)))"
   ]
  },
  {
   "cell_type": "code",
   "execution_count": null,
   "metadata": {},
   "outputs": [],
   "source": [
    "import matplotlib.pyplot as plt\n",
    "\n",
    "# let plot out to see what is the distribution of crime based on the data\n",
    "n, bins, patches = plt.hist(samples[:,0],bins='auto')\n",
    "plt.title('Distribution of crimes')\n",
    "plt.show()\n",
    "print('Bin sizes: {}'.format(n))"
   ]
  },
  {
   "cell_type": "markdown",
   "metadata": {},
   "source": [
    "<a id='q3'></a>\n",
    "<b>Question 3</b>: Plot out the histogram of another feature of the dataset that you are interested in, give the plot a title and also print out the bin sizes <br><br>\n",
    "[Q1](#q1) [Q2](#q2) [Q3](#q3) [Q4](#q4) [Q5](#q5) [Q6](#q6) [Q7](#q7) [Q8](#q8) [Q9](#q9) [Q10](#q10)<br><br>\n",
    "<b>Answer</b>"
   ]
  },
  {
   "cell_type": "code",
   "execution_count": 55,
   "metadata": {},
   "outputs": [
    {
     "data": {
      "image/png": "[encoded data removed]",
      "text/plain": [
       "<Figure size 432x288 with 1 Axes>"
      ]
     },
     "metadata": {
      "needs_background": "light"
     },
     "output_type": "display_data"
    },
    {
     "name": "stdout",
     "output_type": "stream",
     "text": [
      "Bin sizes: [7. 3. 0. 0. 0. 0. 0. 1. 0. 0. 0. 0. 0. 0. 0. 0. 0. 0. 0. 0. 0. 0. 0. 0.\n",
      " 0. 0. 0. 0. 0. 0. 0. 0. 0. 0. 0. 0. 1. 0. 0. 0. 0. 0. 0. 0. 0. 1.]\n"
     ]
    }
   ],
   "source": [
    "# Your code here, add more cell if necessary:\n",
    "\n",
    "#Call in the data:\n",
    "from sklearn.datasets import load_boston\n",
    "import matplotlib.pyplot as plt\n",
    "\n",
    "data = load_boston()\n",
    "samples, label, feature_names = ds.data, ds.target, ds.feature_names\n",
    "\n",
    "#Plotting histogram of feature 'Age' from the above data:\n",
    "n, bins, patches = plt.hist(samples[6],bins ='auto')\n",
    "plt.title('Histogram of Age')\n",
    "plt.show()\n",
    "print('Bin sizes: {}'.format(n))"
   ]
  },
  {
   "cell_type": "code",
   "execution_count": 106,
   "metadata": {},
   "outputs": [],
   "source": [
    "def house_with_defined_age(dataset,age):\n",
    "    '''This function will return indices of all house with proportion of owner-occupied units built prior to 1940 greater than age%'''\n",
    "    ids = []\n",
    "    for id, record in enumerate(dataset):\n",
    "        if record[6]>age:\n",
    "            ids.append(id)\n",
    "    return ids\n",
    "# list out all records with unites built prioer to 1940 greater than 50%\n",
    "samples[house_with_defined_age(samples,50)]"
   ]
  },
  {
   "cell_type": "markdown",
   "metadata": {},
   "source": [
    "<a id='q4'></a>\n",
    "<b>Question 4</b>: Write a function that returns the ids of houses that tax is either less than some number or more than some number.\n",
    "    After that list out all records that tax is either less than 1,000 or more than 25,000 <br><br>\n",
    "[Q1](#q1) [Q2](#q2) [Q3](#q3) [Q4](#q4) [Q5](#q5) [Q6](#q6) [Q7](#q7) [Q8](#q8) [Q9](#q9) [Q10](#q10)<br><br>\n",
    "<b>Answer</b>"
   ]
  },
  {
   "cell_type": "code",
   "execution_count": 104,
   "metadata": {},
   "outputs": [
    {
     "name": "stdout",
     "output_type": "stream",
     "text": [
      "Taxes less than 1,000:  [0.14455, 12.5, 7.87, 0.0, 0.524, 6.172, 96.1, 5.9505, 5.0, 311.0, 15.2, 396.9, 19.15]\n",
      "Taxes greater than 25,000:  []\n"
     ]
    }
   ],
   "source": [
    "# Your code here:\n",
    "\n",
    "from sklearn.datasets import load_boston\n",
    "\n",
    "#Calling in the data\n",
    "data = load_boston()\n",
    "samples, label, feature_names = ds.data, ds.target, ds.feature_names\n",
    "\n",
    "#Function that returns the ids of houses that taxes is either less than some number or more than some number:\n",
    "def houses_taxes(dataset,num):\n",
    "    ids = []\n",
    "    for id, record in ids:\n",
    "        if(record[7] < num | record[7] > num):\n",
    "            ids.append(id)\n",
    "        else:\n",
    "            ids.append(id)\n",
    "    return ids\n",
    "\n",
    "#Listing out all records that tax is either less than 1,000 or more than 25,000\n",
    "count_1000 = list([x for x in samples[7] if x < 1000])\n",
    "print(\"Taxes less than 1,000: \", count_1000)\n",
    "\n",
    "count_25000 = list([x for x in samples[7] if x > 25000])\n",
    "print(\"Taxes greater than 25,000: \", count_25000)"
   ]
  },
  {
   "cell_type": "code",
   "execution_count": null,
   "metadata": {},
   "outputs": [],
   "source": []
  }
 ],
 "metadata": {
  "kernelspec": {
   "display_name": "Python 3",
   "language": "python",
   "name": "python3"
  },
  "language_info": {
   "codemirror_mode": {
    "name": "ipython",
    "version": 3
   },
   "file_extension": ".py",
   "mimetype": "text/x-python",
   "name": "python",
   "nbconvert_exporter": "python",
   "pygments_lexer": "ipython3",
   "version": "3.7.4"
  }
 },
 "nbformat": 4,
 "nbformat_minor": 2
}
