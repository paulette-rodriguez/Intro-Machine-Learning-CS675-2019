{
 "cells": [
  {
   "cell_type": "code",
   "execution_count": 130,
   "metadata": {},
   "outputs": [],
   "source": [
    "#Importing the libraries\n",
    "import numpy as np\n",
    "import matplotlib.pyplot as plt\n",
    "import pandas as pd\n",
    "import seaborn as sns"
   ]
  },
  {
   "cell_type": "code",
   "execution_count": 143,
   "metadata": {},
   "outputs": [
    {
     "name": "stdout",
     "output_type": "stream",
     "text": [
      "[1 1 0 1 0 1 1 0 1 1 1 0 0 1 0 1 1 1 1 1 0 0 1 1 1 0 0 1 0 1 0 1 1 1 0 1 1\n",
      " 1 1 0 0 1 0 1 0 1 0 0 0 0 0 0 1 1 1 0 1 0 0 1 0 1 1 1 1 0 1 1 1 0 1 1 0 1\n",
      " 0 1 1 0 0 0 1 0 0 1 1 1 0 1 0 1 0 1 1 0 1 1 1 1 1 1 1 1 1 1 1 1 1 1 1 1 1\n",
      " 1 1 0 0 0 1 0 1 1 1 1 1 1 0 1 0 0 1 1 0 1 1 0 0 1 1 1 0 0 0 1 0 1 0 1 0 0\n",
      " 1 0 1 0 1 1 0 1 0 0 0 1 1 1 0 1 1 1 1 0 0 0 0]\n",
      "[1 1 0 1 0 1 1 0 1 1 0 1 1 0 0 1 0 0 1 0 1 0 1 1 1 1 1 1 0 0 1 1 0 1 1 1 1\n",
      " 0 0 1 0 1 1 1 1 0 1 1 1 0 1 1 0 1 0 1 1 1 0 1 0 1 1 1 1 1 1 1 0 0 1 1 1 1\n",
      " 1 0 1 1 1 0 1 1 1 1 0 0 1 0 0 1 1 1 1 0 1 1 1 1 1 1 0 1 1 0 1 1 1 1 1 0 1\n",
      " 1 1 0 1 1 0 1 1 0 1 0 1 1 1 1 1 1 0 0 0 0 0 1 1 0 1 0 1 1 1 1 0 0 0 0 1 1\n",
      " 0 0 0 1 1 1 1 0 0 1 1 0 1 0 0 1 1 1 1 1 1 1 1 0 1 1 0 0 1 1 1 0 1 0 1 1 0\n",
      " 1 0 1 0 1 1 0 0 1 1 0 1 1 0 0 1 1 1 1 1 1 0 1 1 0 0 1 1 1 0 1 1 1 0 0 1 1\n",
      " 1 1 1 0 0 1 0 0 0 1 0 1 1 0 1 1 0 1 1 1 1 0 1 1 0 1 1 0 0 1 0 1 1 1 0 1 1\n",
      " 1 1 1 0 1 1 1 0 0 0 0 0 1 1 1 0 1 0 1 1 0 1 1 1 1 1 1 1 0 1 1 1 0 1 0 1 1\n",
      " 1 0 0 1 1 1 0 1 1 0 1 1 0 0 0 0 1 1 0 1 1 1 0 1 1 1 1 1 0 1 0 1 0 1 0 0 1\n",
      " 1 0 1 0 1 1 1 0 1 1 0 0 1 0 0 1 1 1 0 0 1 0 1 1 0 1 1 0 1 1 0 1 0 1 0 0 1\n",
      " 1 0 0 1 0 0 1 1 1 0 0 1 1 1 1 0 0 1 1 0 1 1 0 1 1 1 0 1]\n"
     ]
    }
   ],
   "source": [
    "#First load and split the data 70:30\n",
    "import numpy as np\n",
    "from sklearn.model_selection import train_test_split\n",
    "from sklearn.datasets import load_breast_cancer\n",
    "bc = load_breast_cancer()\n",
    "x,y = bc.data,bc.target\n",
    "x_train,x_test,y_train,y_test=train_test_split(x,y,train_size=0.7,test_size=0.3,random_state=123)\n",
    "print(y_test)\n",
    "print(y_train)"
   ]
  },
  {
   "cell_type": "code",
   "execution_count": 144,
   "metadata": {},
   "outputs": [],
   "source": [
    "#Perform feature selection:\n",
    "def chi_square(data, n_features):\n",
    "    label = [row[-1] for row in data]\n",
    "    rows = len(data)\n",
    "    cols = len(data[0]) - 1\n",
    "    T = []\n",
    "    for j in range(0, cols):\n",
    "        ct = [[1, 1], [1, 1], [1, 1]]\n",
    "\n",
    "        for i in range(0, rows):\n",
    "            if label[i] == 0:\n",
    "                if data[i][j] == 0:\n",
    "                    ct[0][0] += 1\n",
    "                elif data[i][j] == 1:\n",
    "                    ct[1][0] += 1\n",
    "                elif data[i][j] == 2:\n",
    "                    ct[2][0] += 1\n",
    "            elif label[i] == 1:\n",
    "                if data[i][j] == 0:\n",
    "                    ct[0][1] += 1\n",
    "                elif data[i][j] == 1:\n",
    "                    ct[1][1] += 1\n",
    "                elif data[i][j] == 2:\n",
    "                    ct[2][1] += 1\n",
    "\n",
    "        col_totals = [sum(x) for x in ct]\n",
    "        row_totals = [sum(x) for x in zip(*ct)]\n",
    "        total = sum(col_totals)\n",
    "        exp_value = [[(row * col) / total for row in row_totals] for col in col_totals]\n",
    "        sqr_value = [[((ct[i][j] - exp_value[i][j]) ** 2) / exp_value[i][j] for j in\n",
    "range(0, len(exp_value[0]))] for i in range(0, len(exp_value))]\n",
    "        chi_2 = sum([sum(x) for x in zip(*sqr_value)])\n",
    "        T.append(chi_2)\n",
    "    indices = sorted(range(len(T)), key=T.__getitem__, reverse=True)\n",
    "    idx = indices[:n_features]\n",
    "    return idx"
   ]
  },
  {
   "cell_type": "code",
   "execution_count": 145,
   "metadata": {},
   "outputs": [],
   "source": [
    "#Extracting top 15 features:\n",
    "def feature_extraction(X, cols):\n",
    "    V = []\n",
    "    columns = list(zip(*X))\n",
    "    for i in cols:\n",
    "        V.append(columns[i])   \n",
    "    V = list(zip(*V))\n",
    "    return V"
   ]
  },
  {
   "cell_type": "code",
   "execution_count": 146,
   "metadata": {},
   "outputs": [],
   "source": [
    "#Create a random subsample from the dataset with replacement:\n",
    "def subsample(dataset, labels, ratio):\n",
    "    sampleData = []\n",
    "    sampleLabel = []\n",
    "    n_sample = round(len(dataset) * ratio)\n",
    "        \n",
    "    row_index = [random.randint(0, n_sample - 1) for _ in range(0, n_sample)]\n",
    "        \n",
    "    # while len(sample) < n_sample:\n",
    "    #     index = random.randrange(len(dataset))\n",
    "    #     sample.append(dataset[index])\n",
    "    #     sampleLabel.append(labels[index])\n",
    "    # return sample, sampleLabel\n",
    "    \n",
    "    for i in row_index:\n",
    "        sampleData.append(dataset[i])\n",
    "        sampleLabel.append(labels[i])  \n",
    "    return sampleData, sampleLabel"
   ]
  },
  {
   "cell_type": "code",
   "execution_count": 147,
   "metadata": {},
   "outputs": [],
   "source": [
    "#Build SVM model:\n",
    "def buildSVM(sampleData, sampleLabel):\n",
    "    model = svm.SVC(kernel='linear', C=1)\n",
    "    model.fit(sampleData, sampleLabel)\n",
    "    model.score(sampleData, sampleLabel)\n",
    "    return model"
   ]
  },
  {
   "cell_type": "code",
   "execution_count": 148,
   "metadata": {},
   "outputs": [],
   "source": [
    "#Make a prediction with a list of bagged SVM models:\n",
    "def bagging(model, row):\n",
    "    predictions = [list(m.predict([row])) for m in model]\n",
    "    pred = [i[0] for i in predictions]\n",
    "    return max(set(pred), key=pred.count)"
   ]
  },
  {
   "cell_type": "code",
   "execution_count": 149,
   "metadata": {},
   "outputs": [],
   "source": [
    "#Calculate accuracy:\n",
    "def accuracy(actual, predicted):   \n",
    "    count = 0\n",
    "    for i in range(len(actual)):\n",
    "        if actual[i] == predicted[i]:\n",
    "            count += 1\n",
    "    return count / float(len(actual)) * 100.0"
   ]
  },
  {
   "cell_type": "code",
   "execution_count": 150,
   "metadata": {},
   "outputs": [
    {
     "name": "stdout",
     "output_type": "stream",
     "text": [
      "Training Data:  6\n"
     ]
    }
   ],
   "source": [
    "print(\"Training Data: \", len(bc))"
   ]
  },
  {
   "cell_type": "code",
   "execution_count": 153,
   "metadata": {},
   "outputs": [
    {
     "name": "stdout",
     "output_type": "stream",
     "text": [
      "Splitting Data...........\n"
     ]
    },
    {
     "ename": "KeyError",
     "evalue": "0",
     "output_type": "error",
     "traceback": [
      "\u001b[0;31m---------------------------------------------------------------------------\u001b[0m",
      "\u001b[0;31mKeyError\u001b[0m                                  Traceback (most recent call last)",
      "\u001b[0;32m<ipython-input-153-efaf2412ae0c>\u001b[0m in \u001b[0;36m<module>\u001b[0;34m\u001b[0m\n\u001b[1;32m     13\u001b[0m \u001b[0;32mfor\u001b[0m \u001b[0mi\u001b[0m \u001b[0;32min\u001b[0m \u001b[0mrange\u001b[0m\u001b[0;34m(\u001b[0m\u001b[0mlen\u001b[0m\u001b[0;34m(\u001b[0m\u001b[0mbc\u001b[0m\u001b[0;34m)\u001b[0m\u001b[0;34m)\u001b[0m\u001b[0;34m:\u001b[0m\u001b[0;34m\u001b[0m\u001b[0;34m\u001b[0m\u001b[0m\n\u001b[1;32m     14\u001b[0m     \u001b[0;32mif\u001b[0m \u001b[0mi\u001b[0m \u001b[0;32min\u001b[0m \u001b[0mindex_train\u001b[0m\u001b[0;34m:\u001b[0m\u001b[0;34m\u001b[0m\u001b[0;34m\u001b[0m\u001b[0m\n\u001b[0;32m---> 15\u001b[0;31m         \u001b[0mtrain_subset\u001b[0m\u001b[0;34m.\u001b[0m\u001b[0mappend\u001b[0m\u001b[0;34m(\u001b[0m\u001b[0mbc\u001b[0m\u001b[0;34m[\u001b[0m\u001b[0mi\u001b[0m\u001b[0;34m]\u001b[0m\u001b[0;34m)\u001b[0m\u001b[0;34m\u001b[0m\u001b[0;34m\u001b[0m\u001b[0m\n\u001b[0m\u001b[1;32m     16\u001b[0m     \u001b[0;32melse\u001b[0m\u001b[0;34m:\u001b[0m\u001b[0;34m\u001b[0m\u001b[0;34m\u001b[0m\u001b[0m\n\u001b[1;32m     17\u001b[0m         \u001b[0mtest_subset\u001b[0m\u001b[0;34m.\u001b[0m\u001b[0mappend\u001b[0m\u001b[0;34m(\u001b[0m\u001b[0mbc\u001b[0m\u001b[0;34m[\u001b[0m\u001b[0mi\u001b[0m\u001b[0;34m]\u001b[0m\u001b[0;34m)\u001b[0m\u001b[0;34m\u001b[0m\u001b[0;34m\u001b[0m\u001b[0m\n",
      "\u001b[0;31mKeyError\u001b[0m: 0"
     ]
    }
   ],
   "source": [
    "#Split Data = 70% training data and 30% test data:\n",
    "x_train,x_test,y_train,y_test=train_test_split(x,y,train_size=0.7,test_size=0.3,random_state=123)\n",
    "print('Splitting Data...........')\n",
    "\n",
    "ratio = 0.70\n",
    "dataLength = len(bc)\n",
    "size = int(dataLength * ratio)\n",
    "index_train = random.sample(range(dataLength), size)\n",
    "    \n",
    "train_subset = []   \n",
    "test_subset = []\n",
    "\n",
    "for i in range(len(bc)):\n",
    "    if i in index_train:\n",
    "        train_subset.append(bc[i])\n",
    "    else:\n",
    "        test_subset.append(bc[i])\n",
    "\n",
    "'''\n",
    "train_subset contains 70% of the data and\n",
    "test_subset contains 30% of the data\n",
    "'''\n",
    "    \n",
    "print('Splitting done!!! 70% training data and 30% test data')"
   ]
  },
  {
   "cell_type": "code",
   "execution_count": 154,
   "metadata": {},
   "outputs": [
    {
     "name": "stdout",
     "output_type": "stream",
     "text": [
      "Feature Selection ................\n"
     ]
    },
    {
     "ename": "IndexError",
     "evalue": "list index out of range",
     "output_type": "error",
     "traceback": [
      "\u001b[0;31m---------------------------------------------------------------------------\u001b[0m",
      "\u001b[0;31mIndexError\u001b[0m                                Traceback (most recent call last)",
      "\u001b[0;32m<ipython-input-154-173530ec8a44>\u001b[0m in \u001b[0;36m<module>\u001b[0;34m\u001b[0m\n\u001b[1;32m      2\u001b[0m \u001b[0mprint\u001b[0m\u001b[0;34m(\u001b[0m\u001b[0;34m'Feature Selection ................'\u001b[0m\u001b[0;34m)\u001b[0m\u001b[0;34m\u001b[0m\u001b[0;34m\u001b[0m\u001b[0m\n\u001b[1;32m      3\u001b[0m \u001b[0;34m\u001b[0m\u001b[0m\n\u001b[0;32m----> 4\u001b[0;31m \u001b[0mfeatureCol\u001b[0m \u001b[0;34m=\u001b[0m \u001b[0mchi_square\u001b[0m\u001b[0;34m(\u001b[0m\u001b[0mtrain_subset\u001b[0m\u001b[0;34m,\u001b[0m \u001b[0;36m15\u001b[0m\u001b[0;34m)\u001b[0m\u001b[0;34m\u001b[0m\u001b[0;34m\u001b[0m\u001b[0m\n\u001b[0m\u001b[1;32m      5\u001b[0m \u001b[0mrealTestData\u001b[0m \u001b[0;34m=\u001b[0m \u001b[0mfeature_extraction\u001b[0m\u001b[0;34m(\u001b[0m\u001b[0mrealtest\u001b[0m\u001b[0;34m,\u001b[0m \u001b[0mfeatureCol\u001b[0m\u001b[0;34m)\u001b[0m\u001b[0;34m\u001b[0m\u001b[0;34m\u001b[0m\u001b[0m\n\u001b[1;32m      6\u001b[0m \u001b[0mfeatureCol\u001b[0m\u001b[0;34m.\u001b[0m\u001b[0mappend\u001b[0m\u001b[0;34m(\u001b[0m\u001b[0mlen\u001b[0m\u001b[0;34m(\u001b[0m\u001b[0mtrain_subset\u001b[0m\u001b[0;34m[\u001b[0m\u001b[0;36m0\u001b[0m\u001b[0;34m]\u001b[0m\u001b[0;34m)\u001b[0m\u001b[0;34m-\u001b[0m\u001b[0;36m1\u001b[0m\u001b[0;34m)\u001b[0m\u001b[0;34m\u001b[0m\u001b[0;34m\u001b[0m\u001b[0m\n",
      "\u001b[0;32m<ipython-input-144-bd1fa9eaf641>\u001b[0m in \u001b[0;36mchi_square\u001b[0;34m(data, n_features)\u001b[0m\n\u001b[1;32m      3\u001b[0m     \u001b[0mlabel\u001b[0m \u001b[0;34m=\u001b[0m \u001b[0;34m[\u001b[0m\u001b[0mrow\u001b[0m\u001b[0;34m[\u001b[0m\u001b[0;34m-\u001b[0m\u001b[0;36m1\u001b[0m\u001b[0;34m]\u001b[0m \u001b[0;32mfor\u001b[0m \u001b[0mrow\u001b[0m \u001b[0;32min\u001b[0m \u001b[0mdata\u001b[0m\u001b[0;34m]\u001b[0m\u001b[0;34m\u001b[0m\u001b[0;34m\u001b[0m\u001b[0m\n\u001b[1;32m      4\u001b[0m     \u001b[0mrows\u001b[0m \u001b[0;34m=\u001b[0m \u001b[0mlen\u001b[0m\u001b[0;34m(\u001b[0m\u001b[0mdata\u001b[0m\u001b[0;34m)\u001b[0m\u001b[0;34m\u001b[0m\u001b[0;34m\u001b[0m\u001b[0m\n\u001b[0;32m----> 5\u001b[0;31m     \u001b[0mcols\u001b[0m \u001b[0;34m=\u001b[0m \u001b[0mlen\u001b[0m\u001b[0;34m(\u001b[0m\u001b[0mdata\u001b[0m\u001b[0;34m[\u001b[0m\u001b[0;36m0\u001b[0m\u001b[0;34m]\u001b[0m\u001b[0;34m)\u001b[0m \u001b[0;34m-\u001b[0m \u001b[0;36m1\u001b[0m\u001b[0;34m\u001b[0m\u001b[0;34m\u001b[0m\u001b[0m\n\u001b[0m\u001b[1;32m      6\u001b[0m     \u001b[0mT\u001b[0m \u001b[0;34m=\u001b[0m \u001b[0;34m[\u001b[0m\u001b[0;34m]\u001b[0m\u001b[0;34m\u001b[0m\u001b[0;34m\u001b[0m\u001b[0m\n\u001b[1;32m      7\u001b[0m     \u001b[0;32mfor\u001b[0m \u001b[0mj\u001b[0m \u001b[0;32min\u001b[0m \u001b[0mrange\u001b[0m\u001b[0;34m(\u001b[0m\u001b[0;36m0\u001b[0m\u001b[0;34m,\u001b[0m \u001b[0mcols\u001b[0m\u001b[0;34m)\u001b[0m\u001b[0;34m:\u001b[0m\u001b[0;34m\u001b[0m\u001b[0;34m\u001b[0m\u001b[0m\n",
      "\u001b[0;31mIndexError\u001b[0m: list index out of range"
     ]
    }
   ],
   "source": [
    "#Feature Selection:\n",
    "print('Feature Selection ................')\n",
    "\n",
    "featureCol = chi_square(train_subset, 15)\n",
    "realTestData = feature_extraction(realtest, featureCol)\n",
    "featureCol.append(len(train_subset[0])-1)\n",
    "newTrainingData = feature_extraction(train_subset, featureCol)\n",
    "newTestData = feature_extraction(test_subset, featureCol)\n",
    "    \n",
    "print('Feature Selection done!')"
   ]
  },
  {
   "cell_type": "code",
   "execution_count": 155,
   "metadata": {},
   "outputs": [
    {
     "ename": "NameError",
     "evalue": "name 'newTrainingData' is not defined",
     "output_type": "error",
     "traceback": [
      "\u001b[0;31m---------------------------------------------------------------------------\u001b[0m",
      "\u001b[0;31mNameError\u001b[0m                                 Traceback (most recent call last)",
      "\u001b[0;32m<ipython-input-155-706d1a2e69a5>\u001b[0m in \u001b[0;36m<module>\u001b[0;34m\u001b[0m\n\u001b[1;32m      1\u001b[0m \u001b[0;31m#SVM Algorithm:\u001b[0m\u001b[0;34m\u001b[0m\u001b[0;34m\u001b[0m\u001b[0;34m\u001b[0m\u001b[0m\n\u001b[0;32m----> 2\u001b[0;31m \u001b[0mnewTrainingData\u001b[0m \u001b[0;34m=\u001b[0m \u001b[0;34m[\u001b[0m\u001b[0mlist\u001b[0m\u001b[0;34m(\u001b[0m\u001b[0melem\u001b[0m\u001b[0;34m)\u001b[0m \u001b[0;32mfor\u001b[0m \u001b[0melem\u001b[0m \u001b[0;32min\u001b[0m \u001b[0mnewTrainingData\u001b[0m\u001b[0;34m]\u001b[0m\u001b[0;34m\u001b[0m\u001b[0;34m\u001b[0m\u001b[0m\n\u001b[0m\u001b[1;32m      3\u001b[0m \u001b[0mnewTestData\u001b[0m \u001b[0;34m=\u001b[0m \u001b[0;34m[\u001b[0m\u001b[0mlist\u001b[0m\u001b[0;34m(\u001b[0m\u001b[0melem\u001b[0m\u001b[0;34m)\u001b[0m \u001b[0;32mfor\u001b[0m \u001b[0melem\u001b[0m \u001b[0;32min\u001b[0m \u001b[0mnewTestData\u001b[0m\u001b[0;34m]\u001b[0m\u001b[0;34m\u001b[0m\u001b[0;34m\u001b[0m\u001b[0m\n\u001b[1;32m      4\u001b[0m \u001b[0mrealTestData\u001b[0m \u001b[0;34m=\u001b[0m \u001b[0;34m[\u001b[0m\u001b[0mlist\u001b[0m\u001b[0;34m(\u001b[0m\u001b[0melem\u001b[0m\u001b[0;34m)\u001b[0m \u001b[0;32mfor\u001b[0m \u001b[0melem\u001b[0m \u001b[0;32min\u001b[0m \u001b[0mrealTestData\u001b[0m\u001b[0;34m]\u001b[0m\u001b[0;34m\u001b[0m\u001b[0;34m\u001b[0m\u001b[0m\n\u001b[1;32m      5\u001b[0m \u001b[0;34m\u001b[0m\u001b[0m\n",
      "\u001b[0;31mNameError\u001b[0m: name 'newTrainingData' is not defined"
     ]
    }
   ],
   "source": [
    "#SVM Algorithm:\n",
    "newTrainingData = [list(elem) for elem in newTrainingData]\n",
    "newTestData = [list(elem) for elem in newTestData]\n",
    "realTestData = [list(elem) for elem in realTestData]\n",
    "    \n",
    "newTrainingLabel = [row[-1] for row in newTrainingData]\n",
    "for row in newTrainingData:\n",
    "    del (row[-1])\n",
    "\n",
    "newTestLabel = [row[-1] for row in newTestData]\n",
    "for row in newTestData:\n",
    "    del (row[-1])"
   ]
  },
  {
   "cell_type": "code",
   "execution_count": 156,
   "metadata": {},
   "outputs": [
    {
     "name": "stdout",
     "output_type": "stream",
     "text": [
      "Bagging.........\n"
     ]
    },
    {
     "ename": "NameError",
     "evalue": "name 'newTrainingData' is not defined",
     "output_type": "error",
     "traceback": [
      "\u001b[0;31m---------------------------------------------------------------------------\u001b[0m",
      "\u001b[0;31mNameError\u001b[0m                                 Traceback (most recent call last)",
      "\u001b[0;32m<ipython-input-156-7844993ddfc9>\u001b[0m in \u001b[0;36m<module>\u001b[0;34m\u001b[0m\n\u001b[1;32m      5\u001b[0m \u001b[0;34m\u001b[0m\u001b[0m\n\u001b[1;32m      6\u001b[0m \u001b[0;32mfor\u001b[0m \u001b[0m_\u001b[0m \u001b[0;32min\u001b[0m \u001b[0mrange\u001b[0m\u001b[0;34m(\u001b[0m\u001b[0;36m0\u001b[0m\u001b[0;34m,\u001b[0m \u001b[0mbags\u001b[0m\u001b[0;34m)\u001b[0m\u001b[0;34m:\u001b[0m\u001b[0;34m\u001b[0m\u001b[0;34m\u001b[0m\u001b[0m\n\u001b[0;32m----> 7\u001b[0;31m     \u001b[0msampleData\u001b[0m\u001b[0;34m,\u001b[0m \u001b[0msampleLabel\u001b[0m \u001b[0;34m=\u001b[0m \u001b[0msubsample\u001b[0m\u001b[0;34m(\u001b[0m\u001b[0mnewTrainingData\u001b[0m\u001b[0;34m,\u001b[0m \u001b[0mnewTrainingLabel\u001b[0m\u001b[0;34m,\u001b[0m \u001b[0;36m1\u001b[0m\u001b[0;34m)\u001b[0m\u001b[0;34m\u001b[0m\u001b[0;34m\u001b[0m\u001b[0m\n\u001b[0m\u001b[1;32m      8\u001b[0m     \u001b[0;31m# SVM linear Model\u001b[0m\u001b[0;34m\u001b[0m\u001b[0;34m\u001b[0m\u001b[0;34m\u001b[0m\u001b[0m\n\u001b[1;32m      9\u001b[0m     \u001b[0mm\u001b[0m \u001b[0;34m=\u001b[0m \u001b[0mbuildSVM\u001b[0m\u001b[0;34m(\u001b[0m\u001b[0msampleData\u001b[0m\u001b[0;34m,\u001b[0m \u001b[0msampleLabel\u001b[0m\u001b[0;34m)\u001b[0m\u001b[0;34m\u001b[0m\u001b[0;34m\u001b[0m\u001b[0m\n",
      "\u001b[0;31mNameError\u001b[0m: name 'newTrainingData' is not defined"
     ]
    }
   ],
   "source": [
    "### Bootstrap aggregating (Bagging) with SVM ####\n",
    "print('Bagging.........')  \n",
    "bags = 50\n",
    "models = [] * bags\n",
    "\n",
    "for _ in range(0, bags):\n",
    "    sampleData, sampleLabel = subsample(newTrainingData, newTrainingLabel, 1)\n",
    "    # SVM linear Model\n",
    "    m = buildSVM(sampleData, sampleLabel)\n",
    "    models.append(m)\n",
    "\n",
    "print(\"Number of SVM model bags created =\", len(models))\n",
    "\n",
    "predictions = []\n",
    "for row in newTestData:\n",
    "    predictions.append(bagging(models, row))\n",
    "\n",
    "model_accuracy = accuracy(newTestLabel, predictions)\n",
    "\n",
    "print('\\nACCURACY OF THE MODEL IS', model_accuracy, '%\\n')\n",
    "\n",
    "'''\n",
    "Predicting labels for the given test data\n",
    "'''\n",
    "print('Predicting labels for given test dataset.......')\n",
    "\n",
    "realTestDataPredict = [bagging(models, row) for row in realTestData]\n",
    "\n",
    "file_path = os.path.dirname(os.path.abspath('__file__'))"
   ]
  },
  {
   "cell_type": "code",
   "execution_count": null,
   "metadata": {},
   "outputs": [],
   "source": []
  }
 ],
 "metadata": {
  "kernelspec": {
   "display_name": "Python 3",
   "language": "python",
   "name": "python3"
  },
  "language_info": {
   "codemirror_mode": {
    "name": "ipython",
    "version": 3
   },
   "file_extension": ".py",
   "mimetype": "text/x-python",
   "name": "python",
   "nbconvert_exporter": "python",
   "pygments_lexer": "ipython3",
   "version": "3.7.4"
  }
 },
 "nbformat": 4,
 "nbformat_minor": 2
}
