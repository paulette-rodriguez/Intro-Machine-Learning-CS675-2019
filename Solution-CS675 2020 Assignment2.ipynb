{
 "cells": [
  {
   "cell_type": "markdown",
   "metadata": {},
   "source": [
    "# Assignment 2\n",
    "<i>General instruction for Windows:</i> \n",
    "1. To run a cell and move to the next cell: Hold down <strong>Shift</strong> and press <strong>Enter</strong>\n",
    "2. To run a cell and stay in the same cell: Hold down <b>Ctrl</b> and press <b>Enter</b>\n",
    "3. Use the arrow up and down to navigate or do it manually as you prefer\n",
    "4. Escape from typing a cell: Hit <b>Esc</b>\n",
    "\n",
    "Visit https://towardsdatascience.com/jypyter-notebook-shortcuts-bf0101a98330 for a detailed instruction of shortcuts for jupyter notebook. Google for other operating system.\n",
    "\n",
    "\n",
    "<b>Note: </b> You must run/evaluate all cells. <b>Order of cell execution is important.<b>"
   ]
  },
  {
   "cell_type": "markdown",
   "metadata": {},
   "source": [
    "## Preparation Steps"
   ]
  },
  {
   "cell_type": "code",
   "execution_count": 1,
   "metadata": {},
   "outputs": [],
   "source": [
    "# Import all necessary python packages\n",
    "import numpy as np\n",
    "import os\n",
    "import pandas as pd\n",
    "import matplotlib.pyplot as plt\n",
    "from matplotlib.colors import ListedColormap"
   ]
  },
  {
   "cell_type": "code",
   "execution_count": 2,
   "metadata": {},
   "outputs": [
    {
     "name": "stdout",
     "output_type": "stream",
     "text": [
      "URL: https://archive.ics.uci.edu/ml/machine-learning-databases/iris/iris.data\n"
     ]
    }
   ],
   "source": [
    "# ### Reading-in the Iris data\n",
    "\n",
    "s = os.path.join('https://archive.ics.uci.edu', 'ml',\n",
    "                 'machine-learning-databases', 'iris','iris.data')\n",
    "s = s.replace(\"\\\\\",\"/\");\n",
    "print('URL:', s)\n",
    "df = pd.read_csv(s,header=None,encoding='utf-8')\n"
   ]
  },
  {
   "cell_type": "code",
   "execution_count": 3,
   "metadata": {},
   "outputs": [
    {
     "data": {
      "image/png": "[encoded data removed]",
      "text/plain": [
       "<Figure size 432x288 with 1 Axes>"
      ]
     },
     "metadata": {
      "needs_background": "light"
     },
     "output_type": "display_data"
    }
   ],
   "source": [
    "# select setosa and versicolor\n",
    "y = df.iloc[0:100, 4].values\n",
    "y = np.where(y == 'Iris-setosa', -1, 1)\n",
    "\n",
    "# extract sepal length and petal length\n",
    "X = df.iloc[:100, [0, 2]].values\n",
    "\n",
    "# plot data\n",
    "plt.scatter(X[:50, 0], X[:50, 1],\n",
    "            color='red', marker='o', label='setosa')\n",
    "plt.scatter(X[50:100, 0], X[50:100, 1],\n",
    "            color='blue', marker='x', label='versicolor')\n",
    "\n",
    "plt.xlabel('sepal length [cm]')\n",
    "plt.ylabel('petal length [cm]')\n",
    "plt.legend(loc='upper left')\n",
    "\n",
    "\n",
    "# plt.savefig('images/02_06.png', dpi=300)\n",
    "plt.show()"
   ]
  },
  {
   "cell_type": "markdown",
   "metadata": {},
   "source": [
    "## Question 0. Manual Perceptron Training "
   ]
  },
  {
   "cell_type": "markdown",
   "metadata": {},
   "source": [
    "Below you can see the first 5 data points of the data set, all labeled as 'setosa'. Let's set the numerical value for 'setosa' to 1. (i.e. y = 1)"
   ]
  },
  {
   "cell_type": "code",
   "execution_count": 367,
   "metadata": {},
   "outputs": [
    {
     "data": {
      "text/plain": [
       "(array([[5.1, 1.4],\n",
       "        [4.9, 1.4],\n",
       "        [4.7, 1.3],\n",
       "        [4.6, 1.5],\n",
       "        [5. , 1.4]]), array([-1, -1, -1, -1, -1]))"
      ]
     },
     "execution_count": 367,
     "metadata": {},
     "output_type": "execute_result"
    }
   ],
   "source": [
    "X[0:5], y[0:5]"
   ]
  },
  {
   "cell_type": "markdown",
   "metadata": {},
   "source": [
    "Suppose the initial weights of the perceptron are w0=0.1, w1=-0.2, w2=0.1\n",
    "\n",
    "In the following space (Double click this text), write the weights after processing data points 0,1,2, and show your calculations (with $\\eta = 0.1$):\n",
    "\n",
    "**Addendum**: If it is the case that all points are classified correctly, just flip all labels to the other class, so that they are all classified incorrectly, and then do the updates. (I think $y=1$ for all labels should do that). \n",
    "\n",
    "\n",
    "\n",
    "\n",
    "\n",
    "\n",
    "\n",
    "\n",
    "\n",
    "\n",
    "\n"
   ]
  },
  {
   "cell_type": "markdown",
   "metadata": {},
   "source": [
    "### Note to grader, no coding is required as long as the result and steps taken are as follows (Coding answer is okay as well)"
   ]
  },
  {
   "cell_type": "code",
   "execution_count": 9,
   "metadata": {},
   "outputs": [],
   "source": [
    "# List out what we know\n",
    "eta = 0.1 # learning rate\n",
    "w = np.array([0.1,-0.2,0.1]) # w0=0.1, w1=-0.2, w2=0.1\n",
    "y_label = np.ones(5) # force y label to be all 1 as the instruction in the addendum"
   ]
  },
  {
   "cell_type": "markdown",
   "metadata": {},
   "source": [
    "$update = \\eta * (y - \\hat{y})$ where $y$ is the expected label and $\\hat{y}$ is what the neuron has predicted"
   ]
  },
  {
   "cell_type": "code",
   "execution_count": 10,
   "metadata": {},
   "outputs": [
    {
     "data": {
      "text/plain": [
       "array([0.3 , 0.82, 0.38])"
      ]
     },
     "execution_count": 10,
     "metadata": {},
     "output_type": "execute_result"
    }
   ],
   "source": [
    "# obtain y hat for the first data point\n",
    "dp = 0\n",
    "x_1 = X[dp][0]\n",
    "x_2 = X[dp][1]\n",
    "\n",
    "y_net_input = w[0] + w[1]*x_1 + w[2]*x_2\n",
    "y_hat = np.where(y_net_input>=0.0,1,-1)\n",
    "\n",
    "#Update the weight for the first data point\n",
    "update = eta * (y_label[dp] - y_hat)\n",
    "w[0] += update\n",
    "w[1] += update * x_1\n",
    "w[2] += update * x_2\n",
    "w"
   ]
  },
  {
   "cell_type": "code",
   "execution_count": 11,
   "metadata": {},
   "outputs": [
    {
     "data": {
      "text/plain": [
       "array([0.3 , 0.82, 0.38])"
      ]
     },
     "execution_count": 11,
     "metadata": {},
     "output_type": "execute_result"
    }
   ],
   "source": [
    "# obtain y hat for the 2nd data point\n",
    "dp = 1\n",
    "x_1 = X[dp][0]\n",
    "x_2 = X[dp][1]\n",
    "\n",
    "y_net_input = w[0] + w[1]*x_1 + w[2]*x_2\n",
    "y_hat = np.where(y_net_input>=0.0,1,-1)\n",
    "\n",
    "#Update the weight for the first data point\n",
    "update = eta * (y_label[dp] - y_hat)\n",
    "w[0] += update\n",
    "w[1] += update * x_1\n",
    "w[2] += update * x_2\n",
    "w"
   ]
  },
  {
   "cell_type": "code",
   "execution_count": 371,
   "metadata": {},
   "outputs": [
    {
     "data": {
      "text/plain": [
       "4.85"
      ]
     },
     "execution_count": 371,
     "metadata": {},
     "output_type": "execute_result"
    }
   ],
   "source": [
    "0.3 + 0.82*x_1 + 0.38*x_2"
   ]
  },
  {
   "cell_type": "code",
   "execution_count": 12,
   "metadata": {},
   "outputs": [
    {
     "data": {
      "text/plain": [
       "array([0.3 , 0.82, 0.38])"
      ]
     },
     "execution_count": 12,
     "metadata": {},
     "output_type": "execute_result"
    }
   ],
   "source": [
    "# obtain y hat for the 3rd data point\n",
    "dp = 2\n",
    "x_1 = X[dp][0]\n",
    "x_2 = X[dp][1]\n",
    "\n",
    "y_net_input = w[0] + w[1]*x_1 + w[2]*x_2\n",
    "y_hat = np.where(y_net_input>=0.0,1,-1)\n",
    "\n",
    "#Update the weight for the first data point\n",
    "update = eta * (y_label[dp] - y_hat)\n",
    "w[0] += update\n",
    "w[1] += update * x_1\n",
    "w[2] += update * x_2\n",
    "w"
   ]
  },
  {
   "cell_type": "code",
   "execution_count": 13,
   "metadata": {},
   "outputs": [
    {
     "data": {
      "text/plain": [
       "array([0.3 , 0.82, 0.38])"
      ]
     },
     "execution_count": 13,
     "metadata": {},
     "output_type": "execute_result"
    }
   ],
   "source": [
    "# obtain y hat for the forth data point\n",
    "dp = 3\n",
    "x_1 = X[dp][0]\n",
    "x_2 = X[dp][1]\n",
    "\n",
    "y_net_input = w[0] + w[1]*x_1 + w[2]*x_2\n",
    "y_hat = np.where(y_net_input>=0.0,1,-1)\n",
    "\n",
    "#Update the weight for the first data point\n",
    "update = eta * (y_label[dp] - y_hat)\n",
    "w[0] += update\n",
    "w[1] += update * x_1\n",
    "w[2] += update * x_2\n",
    "w"
   ]
  },
  {
   "cell_type": "code",
   "execution_count": 14,
   "metadata": {},
   "outputs": [
    {
     "data": {
      "text/plain": [
       "array([0.3 , 0.82, 0.38])"
      ]
     },
     "execution_count": 14,
     "metadata": {},
     "output_type": "execute_result"
    }
   ],
   "source": [
    "# obtain y hat for the fifth data point\n",
    "dp = 4\n",
    "x_1 = X[dp][0]\n",
    "x_2 = X[dp][1]\n",
    "\n",
    "y_net_input = w[0] + w[1]*x_1 + w[2]*x_2\n",
    "y_hat = np.where(y_net_input>=0.0,1,-1)\n",
    "\n",
    "#Update the weight for the first data point\n",
    "update = eta * (y_label[dp] - y_hat)\n",
    "w[0] += update\n",
    "w[1] += update * x_1\n",
    "w[2] += update * x_2\n",
    "w"
   ]
  },
  {
   "cell_type": "markdown",
   "metadata": {},
   "source": [
    "## Question 1. Perceptron Code Modification"
   ]
  },
  {
   "cell_type": "markdown",
   "metadata": {},
   "source": [
    "The following code is the perceptron implementation from the textbook (with only three lines inserted)."
   ]
  },
  {
   "cell_type": "code",
   "execution_count": 16,
   "metadata": {},
   "outputs": [],
   "source": [
    "import numpy as np\n",
    "import copy\n",
    "\n",
    "class Perceptron(object):\n",
    "    \"\"\"Perceptron classifier.\n",
    "\n",
    "    Parameters\n",
    "    ------------\n",
    "    eta : float\n",
    "      Learning rate (between 0.0 and 1.0)\n",
    "    n_iter : int\n",
    "      Passes over the training dataset.\n",
    "    random_state : int\n",
    "      Random number generator seed for random weight\n",
    "      initialization.\n",
    "\n",
    "    Attributes\n",
    "    -----------\n",
    "    w_ : 1d-array\n",
    "      Weights after fitting.\n",
    "    errors_ : list\n",
    "      Number of misclassifications (updates) in each epoch.\n",
    "\n",
    "    \"\"\"\n",
    "    def __init__(self, eta=0.01, n_iter=50, random_state=1, started_weight=[], label_pos=1, label_neg=-1):\n",
    "        self.eta = eta\n",
    "        self.n_iter = n_iter\n",
    "        self.random_state = random_state\n",
    "        # to force some preset started weight vector\n",
    "        self.started_weight = started_weight\n",
    "        # the number of iterations required to converge if it is larger than the request n_iter\n",
    "        # it will take the default value = -1\n",
    "        self.iter_trained = -1\n",
    "        \n",
    "        # to demonstrate the answer to question 5 later on\n",
    "        self.label_pos = label_pos\n",
    "        self.label_neg = label_neg\n",
    "\n",
    "    def fit(self, X, y):\n",
    "        \"\"\"Fit training data.\n",
    "\n",
    "        Parameters\n",
    "        ----------\n",
    "        X : {array-like}, shape = [n_examples, n_features]\n",
    "          Training vectors, where n_examples is the number of examples and\n",
    "          n_features is the number of features.\n",
    "        y : array-like, shape = [n_examples]\n",
    "          Target values.\n",
    "\n",
    "        Returns\n",
    "        -------\n",
    "        self : object\n",
    "\n",
    "        \"\"\"\n",
    "        if len(self.started_weight)>0:\n",
    "            self.w_ = self.started_weight\n",
    "        else:\n",
    "            rgen = np.random.RandomState(self.random_state)\n",
    "            self.w_ = rgen.normal(loc=0.0, scale=0.01, size=1 + X.shape[1])\n",
    "        self.errors_ = []\n",
    "        # (iii) weight vector over time. A dictionary that will have the key to be the iteration number and the value to be the list of weights after processing each data point\n",
    "        self.wo_ = {} \n",
    "        \n",
    "        for i in range(self.n_iter):\n",
    "            errors = 0\n",
    "            # initiate the list of weight over each data point\n",
    "            self.wo_[i] = []\n",
    "\n",
    "            for xi, target in zip(X, y):\n",
    "                update = self.eta * (target - self.predict(xi))\n",
    "                self.w_[1:] += update * xi\n",
    "                self.w_[0] += update\n",
    "                # use deep copy to ensure variable is saved by value for historical weight\n",
    "                self.wo_[i].append(copy.deepcopy(self.w_))\n",
    "                errors += int(update != 0.0)\n",
    "            self.errors_.append(errors)\n",
    "            \n",
    "            #(i) check to see if during the epoch, if there is any weight change/error.\n",
    "            # if there is no error, we can break out of the loop since no\n",
    "            # futher training iteration is necessary\n",
    "            if errors == 0:\n",
    "                # (ii) number of iterations for complete training\n",
    "                # add 1 because python index start from 0\n",
    "                self.iter_trained = i + 1\n",
    "                break # end early\n",
    "            \n",
    "        return self\n",
    "\n",
    "    def net_input(self, X):\n",
    "        \"\"\"Calculate net input\"\"\"\n",
    "        return np.dot(X, self.w_[1:]) + self.w_[0]\n",
    "\n",
    "    def predict(self, X):\n",
    "        \"\"\"Return class label after unit step\"\"\"\n",
    "        return np.where(self.net_input(X) >= 0.0, self.label_pos, self.label_neg)"
   ]
  },
  {
   "cell_type": "code",
   "execution_count": 376,
   "metadata": {},
   "outputs": [
    {
     "data": {
      "text/plain": [
       "<__main__.Perceptron at 0x19e743d5d48>"
      ]
     },
     "execution_count": 376,
     "metadata": {},
     "output_type": "execute_result"
    }
   ],
   "source": [
    "# Verify manual calculations\n",
    "# set the parameters to match question\n",
    "test = Perceptron(eta = 0.1, started_weight=[0.1,-0.2,0.1])\n",
    "test.fit(X[0:5],y_label)"
   ]
  },
  {
   "cell_type": "code",
   "execution_count": 377,
   "metadata": {},
   "outputs": [
    {
     "data": {
      "text/plain": [
       "[[0.30000000000000004, 0.8200000000000001, 0.38],\n",
       " [0.30000000000000004, 0.8200000000000001, 0.38],\n",
       " [0.30000000000000004, 0.8200000000000001, 0.38],\n",
       " [0.30000000000000004, 0.8200000000000001, 0.38],\n",
       " [0.30000000000000004, 0.8200000000000001, 0.38]]"
      ]
     },
     "execution_count": 377,
     "metadata": {},
     "output_type": "execute_result"
    }
   ],
   "source": [
    "test.wo_[0][0:5]\n",
    "# Results work in the same way when we do it manually"
   ]
  },
  {
   "cell_type": "markdown",
   "metadata": {},
   "source": [
    " \n",
    "Work on the above cell and modify the code so that:\n",
    "\n",
    "(i) The fit function stops when no more iterations are necessary. <br>\n",
    "(ii) The trained perceptron contains not only its weights, but also the number of iterations it took for training <br>\n",
    "(iii) The perceptron maintains a history of its weights, i.e. the set of weights after each point is processed (**optional** -- but you can use this to verify your manual calculations) \n",
    "\n",
    "To modify the code please insert your code with clear comments surrounding it, similarly to \"my do-nothing code\". Make sure you evaluate the cell again,  so that following cells will be using the modified perceptron.\n",
    "\n"
   ]
  },
  {
   "cell_type": "markdown",
   "metadata": {},
   "source": [
    "## Question2: Experimenting with hyperparameters"
   ]
  },
  {
   "cell_type": "code",
   "execution_count": 17,
   "metadata": {},
   "outputs": [
    {
     "data": {
      "image/png": "[encoded data removed]",
      "text/plain": [
       "<Figure size 432x288 with 1 Axes>"
      ]
     },
     "metadata": {
      "needs_background": "light"
     },
     "output_type": "display_data"
    }
   ],
   "source": [
    "ppn = Perceptron(eta=0.0001, n_iter=20, random_state=1)\n",
    "\n",
    "ppn.fit(X, y)\n",
    "\n",
    "plt.plot(range(1, len(ppn.errors_) + 1), ppn.errors_, marker='o')\n",
    "plt.xlabel('Epochs')\n",
    "plt.ylabel('Number of updates')\n",
    "\n",
    "plt.show()"
   ]
  },
  {
   "cell_type": "markdown",
   "metadata": {},
   "source": [
    "Running the above code, you can verify if your modification in question 1 works correctly. The point of this question is to experiment with the different hyperparameters. Here are some specific questions:<br>\n",
    "(i) Find the largest value of $\\eta$ for which the process takes more than 20 iterations to converge. Explain how you found that $\\eta$ <br>\n",
    "(ii) Are you able to find $\\eta>1$ for which the process fails to converge in less than 30 iterations? <br>\n",
    "(iii) Find two different settings for the random state, that give different convergence patterns, for the same $\\eta$. \n",
    "\n",
    "Please give your answers in the cell below. "
   ]
  },
  {
   "cell_type": "code",
   "execution_count": 379,
   "metadata": {},
   "outputs": [
    {
     "data": {
      "text/plain": [
       "40"
      ]
     },
     "execution_count": 379,
     "metadata": {},
     "output_type": "execute_result"
    }
   ],
   "source": [
    "# (i) intuition: the smaller the eta, the more slowerly the perceptron will learn. \n",
    "# We see that eta = 0.0001, it takes 16 epochs (i.e. iterations) to learn\n",
    "# in addition, we try out eta = 0.00001, it takes 40 epochs to learn\n",
    "ppn = Perceptron(eta=0.00001, n_iter=200, random_state=1)\n",
    "\n",
    "ppn.fit(X, y)\n",
    "ppn.iter_trained"
   ]
  },
  {
   "cell_type": "code",
   "execution_count": 380,
   "metadata": {},
   "outputs": [
    {
     "name": "stdout",
     "output_type": "stream",
     "text": [
      "The number of iterations required for eta mid = 0.000055 is 19\n"
     ]
    }
   ],
   "source": [
    "# base on the above intuition and observation, we will use binary search to search for the eta that will produce ppn.iter_trained = 20\n",
    "# eta producing high number of iterations to converge (40)\n",
    "eta_low = 0.00001\n",
    "# eta producing low nmber of iterations to converge (16)\n",
    "eta_high = 0.0001\n",
    "# find the middle value of eta_high and eta_low\n",
    "mid = (eta_high + eta_low)/2 \n",
    "# try out eta = mid to see how many epochs to learn successfully\n",
    "ppn = Perceptron(eta=mid, n_iter=200, random_state=1)\n",
    "\n",
    "ppn.fit(X, y)\n",
    "print('The number of iterations required for eta mid = {:.6f} is {}'.format(mid,ppn.iter_trained))\n",
    "\n",
    "# we see that the total number of epochs is 19, which means we need to decrease our learning rate a little less\n",
    "# so that the perceptron will learn more slowly. "
   ]
  },
  {
   "cell_type": "code",
   "execution_count": 381,
   "metadata": {},
   "outputs": [
    {
     "name": "stdout",
     "output_type": "stream",
     "text": [
      "The number of iterations required for eta mid = 0.000033 is 23\n"
     ]
    }
   ],
   "source": [
    "# the current eta_high that needs 16 iterations\n",
    "# the new eta_low needs 22 iterations\n",
    "eta_high = mid\n",
    "# find the middle value of eta_high and eta_low\n",
    "mid = (eta_high + eta_low)/2\n",
    "# try out eta = mid to see how many epochs to learn successfully\n",
    "ppn = Perceptron(eta=mid, n_iter=200, random_state=1)\n",
    "\n",
    "ppn.fit(X, y)\n",
    "ppn.iter_trained\n",
    "print('The number of iterations required for eta mid = {:.6f} is {}'.format(mid,ppn.iter_trained))\n",
    "# we see that the total number of epochs is 23, which means we need to increase our learning rate a little more.\n",
    "# so that it will learn faster. "
   ]
  },
  {
   "cell_type": "code",
   "execution_count": 382,
   "metadata": {},
   "outputs": [
    {
     "name": "stdout",
     "output_type": "stream",
     "text": [
      "The number of iterations required for eta mid = 0.000044 is 21\n"
     ]
    }
   ],
   "source": [
    "eta_low = mid\n",
    "# find the middle value of eta_high and eta_low\n",
    "mid = (eta_high + eta_low)/2\n",
    "# try out eta = mid to see how many epochs to learn successfully\n",
    "ppn = Perceptron(eta=mid, n_iter=2000, random_state=1)\n",
    "\n",
    "ppn.fit(X, y)\n",
    "ppn.iter_trained\n",
    "print('The number of iterations required for eta mid = {:.6f} is {}'.format(mid,ppn.iter_trained))\n",
    "# we see that the total number of epochs is 25, which means we need to increase our learning rate a little more.\n",
    "# so that it will learn faster. "
   ]
  },
  {
   "cell_type": "code",
   "execution_count": 383,
   "metadata": {},
   "outputs": [
    {
     "name": "stdout",
     "output_type": "stream",
     "text": [
      "The answer is learning rate eta = 0.000049\n"
     ]
    }
   ],
   "source": [
    "# The same reasoning is used until we find the right eta.\n",
    "# We put everything together into a loop till answer is found\n",
    "\n",
    "def best_eta(iter_target, samples_with_features, lables, eta_high=0.01, eta_low = 0.00001, n_iter=2000):\n",
    "    ''' This function will print out the eta requires for the data to converage in a iter_target iterations. \n",
    "        Input iter_target, samples_with_features, labels are required'''\n",
    "    mid = (eta_high + eta_low)/2\n",
    "    # try out eta = mid to see how many epochs to learn successfully\n",
    "    ppn = Perceptron(eta=mid, n_iter=2000, random_state=1)\n",
    "    # fit the data to find the best weight vector\n",
    "    ppn.fit(X, y)\n",
    "    # stop searching if the number of iterations = desirable number\n",
    "    # else call best_eta again with update set of eta_high, eta_low\n",
    "    if ppn.iter_trained == iter_target:\n",
    "        print('The answer is learning rate eta = {:.6f}'.format(mid))\n",
    "    elif ppn.iter_trained > iter_target: # learning too slowly, make it a little faster\n",
    "        best_eta(iter_target=iter_target, samples_with_features=X, lables = y, eta_low = mid)\n",
    "    else:\n",
    "        best_eta(iter_target=iter_target, samples_with_features=X, lables = y, eta_high=mid)\n",
    "\n",
    "        \n",
    "best_eta(iter_target=20, samples_with_features=X, lables = y)"
   ]
  },
  {
   "cell_type": "code",
   "execution_count": 384,
   "metadata": {},
   "outputs": [
    {
     "data": {
      "text/plain": [
       "6"
      ]
     },
     "execution_count": 384,
     "metadata": {},
     "output_type": "execute_result"
    }
   ],
   "source": [
    "# (ii) When a bad learning rate is chosen, the data can't converge because it fails to learn the weights that classify the data correctly.\n",
    "# pick eta = 1 and observe the result\n",
    "ppn = Perceptron(eta=1, n_iter=2000, random_state=1)\n",
    "# fit the data to find the best weight vector\n",
    "ppn.fit(X, y)\n",
    "# stop searching if the number of iterations = desirable number\n",
    "# else call best_eta again with update set of eta_high, eta_low\n",
    "ppn.iter_trained"
   ]
  },
  {
   "cell_type": "code",
   "execution_count": null,
   "metadata": {},
   "outputs": [],
   "source": [
    "# allowing eta to jump by 10 times until the number of training is greater than 30.\n",
    "# once eta reach 10^9(1 billions) stops\n",
    "eta = 1\n",
    "iter_trained_of_previous = 6\n",
    "temp_conclusion = 'stay the same'\n",
    "while (eta <10):\n",
    "    eta += 0.00001\n",
    "    ppn = Perceptron(eta=eta, n_iter=2000, random_state=1)\n",
    "    # fit the data to find the best weight vector\n",
    "    ppn.fit(X, y)\n",
    "    \n",
    "    # check if the change in eta changes the number of iterations required\n",
    "    if iter_trained_of_previous < ppn.iter_trained:\n",
    "        temp = 'less number of iterations'\n",
    "    elif iter_trained_of_previous > ppn.iter_trained:\n",
    "        temp = 'more number of iterations'\n",
    "    else:\n",
    "        temp = 'stay the same'\n",
    "        \n",
    "    if temp != temp_conclusion:\n",
    "        print(temp)\n",
    "        temp_conclusion = temp\n",
    "        \n",
    "    # stop searching if the number of iterations = desirable number\n",
    "    # else call best_eta again with update set of eta_high, eta_low\n",
    "    if ppn.iter_trained >= 30:\n",
    "        print(eta)\n",
    "        break"
   ]
  },
  {
   "cell_type": "code",
   "execution_count": 386,
   "metadata": {},
   "outputs": [],
   "source": [
    "# The above code shows that the learning rate always converges in less than 30 iterations\n",
    "# More intuitively, learning rate does not impact Perceptron due to linearly separable property of the data\n",
    "# Linearly separable"
   ]
  },
  {
   "cell_type": "code",
   "execution_count": 387,
   "metadata": {},
   "outputs": [
    {
     "name": "stdout",
     "output_type": "stream",
     "text": [
      "[4, 5, 5, 5, 4, 2, 3, 2, 3, 2, 3, 3, 2, 3, 1, 0] vs. [10, 15, 12, 8, 8, 7, 6, 5, 4, 4, 3, 3, 2, 3, 2, 1, 0]\n",
      "False\n"
     ]
    }
   ],
   "source": [
    "# (iii) \n",
    "# establish same eta\n",
    "eta = 0.0001\n",
    "ppn1 = Perceptron(eta=eta, n_iter=2000, random_state=1)\n",
    "ppn1.fit(X,y)\n",
    "ppn2 = Perceptron(eta=eta, n_iter=2000, random_state=2)\n",
    "ppn2.fit(X,y)\n",
    "print('{} vs. {}'.format(ppn1.errors_,ppn2.errors_))\n",
    "print(np.array_equal(ppn1.errors_, ppn2.errors_))"
   ]
  },
  {
   "cell_type": "markdown",
   "metadata": {},
   "source": [
    "## Question 3: Visualizing multiple decision regions over time "
   ]
  },
  {
   "cell_type": "markdown",
   "metadata": {},
   "source": [
    "Here is the function for visualizing decision regions"
   ]
  },
  {
   "cell_type": "code",
   "execution_count": 388,
   "metadata": {},
   "outputs": [],
   "source": [
    "from matplotlib.colors import ListedColormap\n",
    "\n",
    "\n",
    "def plot_decision_regions(X, y, classifier, resolution=0.02):\n",
    "\n",
    "    # setup marker generator and color map\n",
    "    markers = ('s', 'x', 'o', '^', 'v')\n",
    "    colors = ('red', 'blue', 'lightgreen', 'gray', 'cyan')\n",
    "    cmap = ListedColormap(colors[:len(np.unique(y))])\n",
    "\n",
    "    # plot the decision surface\n",
    "    x1_min, x1_max = X[:, 0].min() - 1, X[:, 0].max() + 1\n",
    "    x2_min, x2_max = X[:, 1].min() - 1, X[:, 1].max() + 1\n",
    "    xx1, xx2 = np.meshgrid(np.arange(x1_min, x1_max, resolution),\n",
    "                           np.arange(x2_min, x2_max, resolution))\n",
    "    Z = classifier.predict(np.array([xx1.ravel(), xx2.ravel()]).T)\n",
    "    Z = Z.reshape(xx1.shape)\n",
    "    plt.contourf(xx1, xx2, Z, alpha=0.3, cmap=cmap)\n",
    "    plt.xlim(xx1.min(), xx1.max())\n",
    "    plt.ylim(xx2.min(), xx2.max())\n",
    "\n",
    "    # plot class examples\n",
    "    for idx, cl in enumerate(np.unique(y)):\n",
    "        plt.scatter(x=X[y == cl, 0], \n",
    "                    y=X[y == cl, 1],\n",
    "                    alpha=0.8, \n",
    "                    c=colors[idx],\n",
    "                    marker=markers[idx], \n",
    "                    label=cl, \n",
    "                    edgecolor='black')"
   ]
  },
  {
   "cell_type": "code",
   "execution_count": 389,
   "metadata": {},
   "outputs": [
    {
     "data": {
      "image/png": "[encoded data removed]",
      "text/plain": [
       "<Figure size 432x288 with 1 Axes>"
      ]
     },
     "metadata": {
      "needs_background": "light"
     },
     "output_type": "display_data"
    }
   ],
   "source": [
    "plot_decision_regions(X, y, classifier=ppn)\n",
    "plt.xlabel('sepal length [cm]')\n",
    "plt.ylabel('petal length [cm]')\n",
    "plt.legend(loc='upper left')\n",
    "\n",
    "\n",
    "# plt.savefig('images/02_08.png', dpi=300)\n",
    "plt.show()"
   ]
  },
  {
   "cell_type": "markdown",
   "metadata": {},
   "source": [
    "Using the above, give code that plots the decision regions for the first 5 epochs. Use learning rate = 0.01 and random seed = 1 when applicable."
   ]
  },
  {
   "cell_type": "code",
   "execution_count": 390,
   "metadata": {},
   "outputs": [
    {
     "name": "stdout",
     "output_type": "stream",
     "text": [
      "Iteration number: 1\n"
     ]
    },
    {
     "data": {
      "image/png": "[encoded data removed]",
      "text/plain": [
       "<Figure size 432x288 with 1 Axes>"
      ]
     },
     "metadata": {
      "needs_background": "light"
     },
     "output_type": "display_data"
    },
    {
     "name": "stdout",
     "output_type": "stream",
     "text": [
      "Iteration number: 2\n"
     ]
    },
    {
     "data": {
      "image/png": "[encoded data removed]",
      "text/plain": [
       "<Figure size 432x288 with 1 Axes>"
      ]
     },
     "metadata": {
      "needs_background": "light"
     },
     "output_type": "display_data"
    },
    {
     "name": "stdout",
     "output_type": "stream",
     "text": [
      "Iteration number: 3\n"
     ]
    },
    {
     "data": {
      "image/png": "[encoded data removed]",
      "text/plain": [
       "<Figure size 432x288 with 1 Axes>"
      ]
     },
     "metadata": {
      "needs_background": "light"
     },
     "output_type": "display_data"
    },
    {
     "name": "stdout",
     "output_type": "stream",
     "text": [
      "Iteration number: 4\n"
     ]
    },
    {
     "data": {
      "image/png": "[encoded data removed]",
      "text/plain": [
       "<Figure size 432x288 with 1 Axes>"
      ]
     },
     "metadata": {
      "needs_background": "light"
     },
     "output_type": "display_data"
    },
    {
     "name": "stdout",
     "output_type": "stream",
     "text": [
      "Iteration number: 5\n"
     ]
    },
    {
     "data": {
      "image/png": "[encoded data removed]",
      "text/plain": [
       "<Figure size 432x288 with 1 Axes>"
      ]
     },
     "metadata": {
      "needs_background": "light"
     },
     "output_type": "display_data"
    }
   ],
   "source": [
    "# Established a list of classifiers for 5 epochs\n",
    "cl = []\n",
    "# number of iterations to plot\n",
    "iter_plot = 5\n",
    "for i in range(0,iter_plot):\n",
    "    # create a perceptron\n",
    "    classifier = Perceptron(eta=0.01, n_iter = i, random_state=1);\n",
    "    # train the perceptron created\n",
    "    classifier.fit(X,y)\n",
    "    # stored the trained perceptron into the predefined list\n",
    "    cl.append(classifier)\n",
    "\n",
    "# Plot based on classified gathered\n",
    "for idx,c in enumerate(cl):\n",
    "    print('Iteration number: {}'.format(idx+1))\n",
    "    plot_decision_regions(X, y, classifier=c)\n",
    "    plt.xlabel('sepal length [cm]')\n",
    "    plt.ylabel('petal length [cm]')\n",
    "    plt.legend(loc='upper left')\n",
    "    plt.show()"
   ]
  },
  {
   "cell_type": "markdown",
   "metadata": {},
   "source": [
    "## Question 4: Changing the data order in training"
   ]
  },
  {
   "cell_type": "markdown",
   "metadata": {},
   "source": [
    "The data arrays (X,y) currently in the memory are organized so that the all data points with a given label (e.g. 'Setosa') lie in a contiguous part of the arrays (X,y). In this question we will check the impact of changing the order of the data in the number of iterations required to learn a correct perceptron. \n",
    "\n",
    "\n",
    "The commented code below needs a small change in order to generate a random shuffle (also called permutation) of the data). Please look up the particular functions of the code, see how they work and then do the required modification and uncomment/evaluate the code. "
   ]
  },
  {
   "cell_type": "code",
   "execution_count": 391,
   "metadata": {},
   "outputs": [],
   "source": [
    "# establish a random shuffle\n",
    "s = np.arange(len(y))\n",
    "np.random.shuffle(s)\n",
    "#shuffle sample\n",
    "X_shuffle = X[s];\n",
    "y_shuffle = y[s];"
   ]
  },
  {
   "cell_type": "code",
   "execution_count": 397,
   "metadata": {},
   "outputs": [
    {
     "name": "stdout",
     "output_type": "stream",
     "text": [
      "Contiguous labeled data requires 40 iterations\n"
     ]
    },
    {
     "data": {
      "image/png": "[encoded data removed]",
      "text/plain": [
       "<Figure size 432x288 with 1 Axes>"
      ]
     },
     "metadata": {
      "needs_background": "light"
     },
     "output_type": "display_data"
    },
    {
     "name": "stdout",
     "output_type": "stream",
     "text": [
      "Shuffled data requires 23 iterations\n"
     ]
    },
    {
     "data": {
      "image/png": "[encoded data removed]",
      "text/plain": [
       "<Figure size 432x288 with 1 Axes>"
      ]
     },
     "metadata": {
      "needs_background": "light"
     },
     "output_type": "display_data"
    }
   ],
   "source": [
    "# (i) From an answer above, we know that when eta = 0.00001, when the data is feed subsequently, it will require 40 iterations.\n",
    "# try this eta on the shuffed data\n",
    "ppn = Perceptron(eta = 0.00001)\n",
    "ppn.fit(X, y)\n",
    "print('Contiguous labeled data requires {} iterations'.format(ppn.iter_trained))\n",
    "plt.plot(range(1, len(ppn.errors_) + 1), ppn.errors_, marker='o')\n",
    "plt.xlabel('Epochs')\n",
    "plt.ylabel('Number of updates')\n",
    "\n",
    "plt.show()\n",
    "\n",
    "# (ii) Add a code line that fits the perceptron on the shuffled data\n",
    "ppn.fit(X_shuffle, y_shuffle)\n",
    "print('Shuffled data requires {} iterations'.format(ppn_shuffled.iter_trained))\n",
    "plt.plot(range(1, len(ppn.errors_) + 1), ppn.errors_, marker='o')\n",
    "plt.xlabel('Epochs')\n",
    "plt.ylabel('Number of updates')\n",
    "\n",
    "plt.show()"
   ]
  },
  {
   "cell_type": "markdown",
   "metadata": {},
   "source": [
    "### Note to grader: It is okay to create another perceptron and just fit X_shuffle, y_shuffle using the new perceptron"
   ]
  },
  {
   "cell_type": "markdown",
   "metadata": {},
   "source": [
    "Modify the code below as follows: <br>\n",
    "(i) Pick a sufficiently small $\\eta$ so that convergences takes 20 iterations or more <br>\n",
    "(ii) Add an extra line that fits the perceptron on the shuffled data <br>\n",
    "(iii) Plot the error for both training processes (the original, and the shuffled ata) \n",
    "\n",
    "What do you observe?"
   ]
  },
  {
   "cell_type": "markdown",
   "metadata": {},
   "source": [
    "We observe that the same eta requires half as many number of iterations. Obviously, the perceptron learns better if it is exposed to both classes of data as early as possible to adjust the weights."
   ]
  },
  {
   "cell_type": "markdown",
   "metadata": {},
   "source": [
    "## Question 5: Questions on Perceptrons"
   ]
  },
  {
   "cell_type": "markdown",
   "metadata": {},
   "source": [
    "Two theoretical questions\n",
    "\n",
    "**(i)**  Suppose we invoke the following: \n",
    "\n",
    "\n",
    "\n"
   ]
  },
  {
   "cell_type": "code",
   "execution_count": 409,
   "metadata": {},
   "outputs": [
    {
     "data": {
      "text/plain": [
       "<__main__.Perceptron at 0x19e74413ac8>"
      ]
     },
     "execution_count": 409,
     "metadata": {},
     "output_type": "execute_result"
    }
   ],
   "source": [
    "ppn = Perceptron(eta=0.1, n_iter=10, random_state=1) \n",
    "ppn.fit(X, y)\n"
   ]
  },
  {
   "cell_type": "code",
   "execution_count": 410,
   "metadata": {},
   "outputs": [
    {
     "data": {
      "image/png": "[encoded data removed]",
      "text/plain": [
       "<Figure size 432x288 with 1 Axes>"
      ]
     },
     "metadata": {
      "needs_background": "light"
     },
     "output_type": "display_data"
    }
   ],
   "source": [
    "ppn.fit(X, y)\n",
    "\n",
    "plt.plot(range(1, len(ppn.errors_) + 1), ppn.errors_, marker='o')\n",
    "plt.xlabel('Epochs')\n",
    "plt.ylabel('Number of updates')\n",
    "\n",
    "# plt.savefig('images/02_07.png', dpi=300)\n",
    "plt.show()"
   ]
  },
  {
   "cell_type": "markdown",
   "metadata": {},
   "source": [
    "The training labels y are -1 and 1 on this data set. Suppose however that we change the training labels to 0 and 1 respectively. Let's say that the new labels are in a vector y1\n",
    "\n",
    "Fill-out the missing argument so that the perceptron fit happens in an identical way to the above two lines. \n"
   ]
  },
  {
   "cell_type": "code",
   "execution_count": 405,
   "metadata": {},
   "outputs": [],
   "source": [
    "y1 = np.where(y == -1, 0, 1)"
   ]
  },
  {
   "cell_type": "code",
   "execution_count": 414,
   "metadata": {},
   "outputs": [
    {
     "data": {
      "image/png": "[encoded data removed]",
      "text/plain": [
       "<Figure size 432x288 with 1 Axes>"
      ]
     },
     "metadata": {
      "needs_background": "light"
     },
     "output_type": "display_data"
    }
   ],
   "source": [
    "ppn = Perceptron(eta=0.05 , n_iter=10 , random_state=1, label_pos = 1, label_neg=0) \n",
    "# From above, note that we have to change out the labeling for predict function\n",
    "ppn.fit(X, y1)\n",
    "plt.plot(range(1, len(ppn.errors_) + 1), ppn.errors_, marker='o')\n",
    "plt.xlabel('Epochs')\n",
    "plt.ylabel('Number of updates')\n",
    "\n",
    "# plt.savefig('images/02_07.png', dpi=300)\n",
    "plt.show()"
   ]
  },
  {
   "cell_type": "markdown",
   "metadata": {},
   "source": [
    "##### Note to graders: \n",
    "The solution includes the demonstration of why eta will need to be decrease by half. Previously, the distance between the label positive and label negative used to be 1 - (-1) = 2. The new gap between label positive and label negative is now 1 - 0 = 1. Therefore, as long as The answer shows ppn = Perceptron(eta=0.05 , n_iter=10 , random_state=1). That should get full credit\n",
    "\n",
    "Label positive or negative are used to separate two classes of flowers."
   ]
  },
  {
   "cell_type": "markdown",
   "metadata": {},
   "source": [
    "**(ii)** Suppose we have a 2-dimensional data set. Then we transform data point $x^{(1)} = (x_1^{(1)}, x_2^{(1)})$ as follows: $\\tilde{x^{(1)}} = ( a x_1^{(1)}- c, b x_2^{(1)}-c)$, where $a,b,c$ are constant numbers. If our given data set is linearly separable, is the same true for the transformed one? In the following cells you can plot a transformed version of the Iris dataset, so that you see how it behaves (for your choice of $a, b, c$.) But you should also try and justify your answer in a theoretical way: if there exists a  'good' perceptron for the original data set, what would be the weights for the perceptron that works on the transformed set?"
   ]
  },
  {
   "cell_type": "code",
   "execution_count": 417,
   "metadata": {},
   "outputs": [
    {
     "data": {
      "text/plain": [
       "array([[5.1, 1.4],\n",
       "       [4.9, 1.4],\n",
       "       [4.7, 1.3],\n",
       "       [4.6, 1.5],\n",
       "       [5. , 1.4]])"
      ]
     },
     "execution_count": 417,
     "metadata": {},
     "output_type": "execute_result"
    }
   ],
   "source": [
    "# Yes. See the plot of the transformed data\n",
    "# First recall how X looks like. First 5 records\n",
    "X[0:5]"
   ]
  },
  {
   "cell_type": "code",
   "execution_count": 421,
   "metadata": {},
   "outputs": [],
   "source": [
    "# Pick a, b, c as followed\n",
    "a, b, c = np.random.randint(low=1, high=10, size=3)"
   ]
  },
  {
   "cell_type": "code",
   "execution_count": 443,
   "metadata": {},
   "outputs": [
    {
     "data": {
      "text/plain": [
       "array([[38.8,  7.8],\n",
       "       [37.2,  7.8],\n",
       "       [35.6,  7.1],\n",
       "       [34.8,  8.5],\n",
       "       [38. ,  7.8]])"
      ]
     },
     "execution_count": 443,
     "metadata": {},
     "output_type": "execute_result"
    }
   ],
   "source": [
    "# transform X\n",
    "X1 = np.array(a*X[:,0] - c)\n",
    "X2 = np.array(b*X[:,1] - c)\n",
    "X_new = np.stack((X1,X2), axis=-1)\n",
    "X_new[0:5]"
   ]
  },
  {
   "cell_type": "code",
   "execution_count": 444,
   "metadata": {},
   "outputs": [
    {
     "data": {
      "image/png": "[encoded data removed]",
      "text/plain": [
       "<Figure size 432x288 with 1 Axes>"
      ]
     },
     "metadata": {
      "needs_background": "light"
     },
     "output_type": "display_data"
    }
   ],
   "source": [
    "# select setosa and versicolor\n",
    "y = df.iloc[0:100, 4].values\n",
    "y = np.where(y == 'Iris-setosa', -1, 1)\n",
    "\n",
    "# extract sepal length and petal length\n",
    "X_new = X_new[0:100]\n",
    "\n",
    "# plot data\n",
    "plt.scatter(X_new[:50, 0], X_new[:50, 1],\n",
    "            color='red', marker='o', label='setosa')\n",
    "plt.scatter(X_new[50:100, 0], X_new[50:100, 1],\n",
    "            color='blue', marker='x', label='versicolor')\n",
    "\n",
    "plt.xlabel('sepal length [cm]')\n",
    "plt.ylabel('petal length [cm]')\n",
    "plt.legend(loc='upper left')\n",
    "\n",
    "\n",
    "# plt.savefig('images/02_06.png', dpi=300)\n",
    "plt.show()"
   ]
  },
  {
   "cell_type": "markdown",
   "metadata": {},
   "source": [
    "If our given data set is linearly separable, the same is true for the transformed one"
   ]
  },
  {
   "cell_type": "code",
   "execution_count": 450,
   "metadata": {},
   "outputs": [
    {
     "name": "stdout",
     "output_type": "stream",
     "text": [
      "[ 0.01528345 -0.00469356  0.00374228]\n",
      "[ 0.01628345 -0.00093356  0.00135828]\n",
      "0.016283453636632417\n"
     ]
    }
   ],
   "source": [
    "# Observe the weights of the newly transform data set\n",
    "ppn = Perceptron(eta = 0.00001)\n",
    "ppn.fit(X, y)\n",
    "w_old = ppn.w_\n",
    "print(w_old)\n",
    "ppn.fit(X_new, y)\n",
    "print(ppn.w_)\n",
    "print(ppn.w_[0])"
   ]
  },
  {
   "cell_type": "markdown",
   "metadata": {},
   "source": [
    "If there exists a 'good' perceptron for the original data set, the weights for the perceptron that works on the transformed set can be as follows:\n",
    "Assume that we get the 'good' weight vector from the original dataset: $w_0, w_1, w_2$. \n",
    "The net input when assigning the label correctly for all data points will satisfy the following for all data point labeled '1'<br><br>\n",
    "net_input $= w_0 + w_1x_1 + w_2x_2 >= 0$ (1)\n",
    "<br><br>\n",
    "\n",
    "In the same way, for the transformed data, we h ave\n",
    "The net input when assigning the label correctly for all data points will satisfy the following for all data point labeled '1'<br><br>\n",
    "net_input $= w'_0 + w'_1x_1 + w'_2x_2 >= 0$ or $w'_0 - c(w'_1 + w'_2) + w'_1ax_1 + w'_2bx_2 >= 0$ (2)\n",
    "<br><br>\n",
    "\n",
    "(1) and (2) show that one possible weight set that will satisfy the transformed data would be <br>\n",
    "$w'_2 = w_2/b$<br>\n",
    "$w'_1 = w_1/a$<br>\n",
    "$w'_0 = w_0 + c(w_1/a + w_2/b)$\n",
    "\n",
    "Let's take a look at actual data to demonstrate the above"
   ]
  },
  {
   "cell_type": "code",
   "execution_count": 457,
   "metadata": {},
   "outputs": [],
   "source": [
    "# apply to our transformed data\n",
    "w_new_0 = w_old[0]+c*(w_old[1]/a+w_old[2]/b)\n",
    "w_new_1 = w_old[1]/a\n",
    "w_new_2 = w_old[2]/b\n",
    "w_new = [w_new_0, w_new_1, w_new_2]"
   ]
  },
  {
   "cell_type": "code",
   "execution_count": 458,
   "metadata": {},
   "outputs": [
    {
     "data": {
      "image/png": "[encoded data removed]",
      "text/plain": [
       "<Figure size 432x288 with 1 Axes>"
      ]
     },
     "metadata": {
      "needs_background": "light"
     },
     "output_type": "display_data"
    }
   ],
   "source": [
    "# setup marker generator and color map\n",
    "def predict(X):\n",
    "    \"\"\"Return class label after unit step\"\"\"\n",
    "    return np.where(np.dot(X, w_new[1:]) + w_new[0] >= 0.0, 1, -1)\n",
    "\n",
    "resolution = 0.02\n",
    "markers = ('s', 'x', 'o', '^', 'v')\n",
    "colors = ('red', 'blue', 'lightgreen', 'gray', 'cyan')\n",
    "cmap = ListedColormap(colors[:len(np.unique(y))])\n",
    "\n",
    "# plot the decision surface\n",
    "x1_min, x1_max = X_new[:, 0].min() - 1, X_new[:, 0].max() + 1\n",
    "x2_min, x2_max = X_new[:, 1].min() - 1, X_new[:, 1].max() + 1\n",
    "xx1, xx2 = np.meshgrid(np.arange(x1_min, x1_max, resolution),\n",
    "                       np.arange(x2_min, x2_max, resolution))\n",
    "Z = predict(np.array([xx1.ravel(), xx2.ravel()]).T)\n",
    "Z = Z.reshape(xx1.shape)\n",
    "plt.contourf(xx1, xx2, Z, alpha=0.3, cmap=cmap)\n",
    "plt.xlim(xx1.min(), xx1.max())\n",
    "plt.ylim(xx2.min(), xx2.max())\n",
    "\n",
    "# plot class examples\n",
    "for idx, cl in enumerate(np.unique(y)):\n",
    "    plt.scatter(x=X_new[y == cl, 0], \n",
    "                y=X_new[y == cl, 1],\n",
    "                alpha=0.8, \n",
    "                c=colors[idx],\n",
    "                marker=markers[idx], \n",
    "                label=cl, \n",
    "                edgecolor='black')"
   ]
  }
 ],
 "metadata": {
  "kernelspec": {
   "display_name": "Python 3",
   "language": "python",
   "name": "python3"
  },
  "language_info": {
   "codemirror_mode": {
    "name": "ipython",
    "version": 3
   },
   "file_extension": ".py",
   "mimetype": "text/x-python",
   "name": "python",
   "nbconvert_exporter": "python",
   "pygments_lexer": "ipython3",
   "version": "3.7.4"
  }
 },
 "nbformat": 4,
 "nbformat_minor": 4
}
