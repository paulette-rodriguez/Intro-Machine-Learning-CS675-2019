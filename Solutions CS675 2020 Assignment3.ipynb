{
 "cells": [
  {
   "cell_type": "markdown",
   "metadata": {},
   "source": [
    "# Assignment 3\n",
    "\n",
    "\n",
    "Visit https://towardsdatascience.com/jypyter-notebook-shortcuts-bf0101a98330 for a detailed instruction of shortcuts for jupyter notebook. Google for other operating system.\n",
    "\n",
    "\n",
    "<b>Note: </b> You must run/evaluate all cells. <b>Order of cell execution is important.<b>"
   ]
  },
  {
   "cell_type": "markdown",
   "metadata": {},
   "source": [
    "## Preparation Steps"
   ]
  },
  {
   "cell_type": "code",
   "execution_count": 22,
   "metadata": {},
   "outputs": [],
   "source": [
    "# Import all necessary python packages\n",
    "import numpy as np\n",
    "import os\n",
    "import pandas as pd\n",
    "import matplotlib.pyplot as plt\n",
    "from matplotlib.colors import ListedColormap\n",
    "from sklearn.linear_model import LogisticRegression"
   ]
  },
  {
   "cell_type": "code",
   "execution_count": 23,
   "metadata": {},
   "outputs": [
    {
     "name": "stdout",
     "output_type": "stream",
     "text": [
      "URL: https://archive.ics.uci.edu/ml/machine-learning-databases/iris/iris.data\n"
     ]
    }
   ],
   "source": [
    "# ### Reading-in the Iris data\n",
    "\n",
    "s = os.path.join('https://archive.ics.uci.edu', 'ml',\n",
    "                 'machine-learning-databases', 'iris','iris.data')\n",
    "s = s.replace(\"\\\\\",\"/\");\n",
    "print('URL:', s)\n",
    "df = pd.read_csv(s,header=None,encoding='utf-8')"
   ]
  },
  {
   "cell_type": "code",
   "execution_count": 24,
   "metadata": {},
   "outputs": [
    {
     "data": {
      "image/png": "[encoded data removed]",
      "text/plain": [
       "<Figure size 432x288 with 1 Axes>"
      ]
     },
     "metadata": {
      "needs_background": "light"
     },
     "output_type": "display_data"
    }
   ],
   "source": [
    "# select setosa and versicolor\n",
    "y = df.iloc[0:100, 4].values\n",
    "y = np.where(y == 'Iris-setosa', -1, 1)\n",
    "\n",
    "# extract sepal length and petal length\n",
    "X = df.iloc[:100, [0, 2]].values\n",
    "\n",
    "# plot data\n",
    "plt.scatter(X[:50, 0], X[:50, 1],\n",
    "            color='red', marker='o', label='setosa')\n",
    "plt.scatter(X[50:100, 0], X[50:100, 1],\n",
    "            color='blue', marker='x', label='versicolor')\n",
    "\n",
    "plt.xlabel('sepal length [cm]')\n",
    "plt.ylabel('petal length [cm]')\n",
    "plt.legend(loc='upper left')\n",
    "\n",
    "\n",
    "# plt.savefig('images/02_06.png', dpi=300)\n",
    "plt.show()"
   ]
  },
  {
   "cell_type": "markdown",
   "metadata": {},
   "source": [
    "## Question 1. Exact Adaline Weights\n",
    "\n",
    "In the class we discussed gradient descent for computing the weights of Adaline. It is possible however to use an 'exact' solver: Suppose $\\tilde{X}$ is the data matrix, with shape $n\\times d$, where $d$ is the number of attributes.  Now let's augment $\\tilde{X}$ by adding one extra attribute/column on the left side of $X$ with all entries being equal to 1. Let $X$ be this new matrix (this step reflects that $x_0=1$). Also, let $w$ be the vector of weights (with shape $(d+1)\\times 1$, and $y$ be the vector of labels (with shape $(n+1)\\times 1$). It turns out that the optimal weight vector $w$ is given by \n",
    "\n",
    "$$\n",
    "      w = (X^T X)^{-1} X^T y\n",
    "$$\n",
    "\n",
    "(i) Write a Python function *exactAdaline* (using numpy) that takes as input $\\tilde{X}$ and $y$ and returns the optimal. weights $w$, following the above formula <br>\n",
    "(ii) Apply the function on the iris dataset that you imported in an earlier cell. Report the weights calculated by the function. <br>\n",
    "(iii) The total error for a vector $w$ is given by this formula\n",
    "\n",
    "$$  err = || Xw - y||_2^2 $$\n",
    "\n",
    "The subscript of the norm means the 2-norm. Use numpy to do your calculation. \n",
    "\n",
    "*(Please insert cells below for your answers. Clearly id the part of the question you answer)*"
   ]
  },
  {
   "cell_type": "code",
   "execution_count": 92,
   "metadata": {},
   "outputs": [],
   "source": [
    "#(i):\n",
    "\n",
    "#Defining a Python function exactAdaline that takes as input ~X \n",
    "#and y and returns the optimal weights w, following the above formula.\n",
    "def exactAdaline(X,y):\n",
    "    x = np.array(np.ones(100)) #define an x with all ones\n",
    "    X_new = np.column_stack((x,X)) #add the new defined x as a column of all ones to the left of out matrix X\n",
    "    X_trans = np.transpose(X_new)  #transpose of our new X\n",
    "    m = np.matmul(X_trans,X_new)  #matrix multiplication\n",
    "    inv = np.linalg.inv(m)  #finding the inverse\n",
    "    t = np.matmul(inv, X_trans)  #multiply the inverse and transpose of X\n",
    "    w = np.matmul(t,y)  #weights\n",
    "    return w  #return the optimal weights, w"
   ]
  },
  {
   "cell_type": "code",
   "execution_count": 93,
   "metadata": {},
   "outputs": [
    {
     "name": "stdout",
     "output_type": "stream",
     "text": [
      "[-0.70498922 -0.27494856  0.7719192 ]\n"
     ]
    }
   ],
   "source": [
    "#(ii):\n",
    "\n",
    "#Apply the function on the iris dataset that we imported above.\n",
    "\n",
    "#Report the weights calculated by the function:\n",
    "w = exactAdaline(X,y)\n",
    "print(w)"
   ]
  },
  {
   "cell_type": "code",
   "execution_count": 99,
   "metadata": {},
   "outputs": [
    {
     "name": "stdout",
     "output_type": "stream",
     "text": [
      "2.2069896002014673\n"
     ]
    }
   ],
   "source": [
    "#(iii):\n",
    "\n",
    "#Using numpy to do calculations of total error:\n",
    "\n",
    "#the product of X and w\n",
    "p = np.matmul(X_new,w)\n",
    "\n",
    "#take the difference:\n",
    "diff = np.subtract(p,y)\n",
    "\n",
    "#error:\n",
    "err = np.linalg.norm(diff, ord = 2)\n",
    "print(err)"
   ]
  },
  {
   "cell_type": "markdown",
   "metadata": {},
   "source": [
    "## Question 2. Adaline Fail ?\n",
    "\n",
    "Unlike the perceptron, adaline does not guarantee that the output will actually separate 2-label data points that are linearly separable. Construct a 2-dimensional data set (i.e. the data points and their labels), with the properties that: <br> \n",
    "\n",
    "(a) the data set is linearly separable  <br>\n",
    "(b) the optimal adaline solution does not separate the data.  <br>\n",
    "\n",
    "Demonstrate your answer as follows: <br>\n",
    "\n",
    "(i) Plot the data points, as we did above for the iris data set. This will show that your data set is linearly separable. <br>\n",
    "(ii) Calculate the optimal adaline weights using the function *exactAdaline* from question 1. <br>\n",
    "(iii) Find one point in your data set, and show the calculations that prove that it is misclassified by the optimal adaline. \n",
    "\n",
    "\n",
    "*(Please insert cells below for your answers. Clearly id the part of the question you answer)*"
   ]
  },
  {
   "cell_type": "code",
   "execution_count": 100,
   "metadata": {},
   "outputs": [
    {
     "data": {
      "image/png": "[encoded data removed]",
      "text/plain": [
       "<Figure size 432x288 with 1 Axes>"
      ]
     },
     "metadata": {
      "needs_background": "light"
     },
     "output_type": "display_data"
    }
   ],
   "source": [
    "#(i):\n",
    "# select setosa and versicolor\n",
    "y = df.iloc[0:100, 4].values\n",
    "y = np.where(y == 'Iris-setosa', -1, 1)\n",
    "\n",
    "# extract sepal length and petal length\n",
    "X = df.iloc[:100, [0, 2]].values\n",
    "\n",
    "# plot data\n",
    "plt.scatter(X[:50, 0], X[:50, 1],\n",
    "            color='red', marker='o', label='setosa')\n",
    "plt.scatter(X[50:100, 0], X[50:100, 1],\n",
    "            color='blue', marker='x', label='versicolor')\n",
    "\n",
    "plt.xlabel('sepal length [cm]')\n",
    "plt.ylabel('petal length [cm]')\n",
    "plt.legend(loc='upper left')\n",
    "\n",
    "\n",
    "# plt.savefig('images/02_06.png', dpi=300)\n",
    "plt.show()"
   ]
  },
  {
   "cell_type": "code",
   "execution_count": 101,
   "metadata": {},
   "outputs": [
    {
     "name": "stdout",
     "output_type": "stream",
     "text": [
      "weights:  [-0.70498922 -0.27494856  0.7719192 ]\n"
     ]
    }
   ],
   "source": [
    "#(ii):\n",
    "weights = exactAdaline(X,y)\n",
    "print('weights: ', weights)"
   ]
  },
  {
   "cell_type": "code",
   "execution_count": 102,
   "metadata": {},
   "outputs": [
    {
     "name": "stdout",
     "output_type": "stream",
     "text": [
      "0.7217\n"
     ]
    }
   ],
   "source": [
    "#(iii):\n",
    "#Let's take point 2.21 in our dataset to show the calculations prove that \n",
    "#it is misclassified by the optimal adaline.\n",
    "pt = 2.21\n",
    "w0 = -0.705\n",
    "w1 = -0.275\n",
    "w2 = 0.77\n",
    "\n",
    "misclassified = w0 + w1 + w2*pt\n",
    "print(misclassified)"
   ]
  },
  {
   "cell_type": "markdown",
   "metadata": {},
   "source": [
    "As we can see the point 2.21 from our data that we got was misclassified by the optimal adaline weights that we computed in the previous code. "
   ]
  },
  {
   "cell_type": "markdown",
   "metadata": {},
   "source": [
    "## Question 3. Practice with logistic regression\n",
    "\n",
    "Let's first load the textbook's implementation of logistic regression with gradient descent."
   ]
  },
  {
   "cell_type": "code",
   "execution_count": 103,
   "metadata": {},
   "outputs": [],
   "source": [
    "class LogisticRegressionGD(object):\n",
    "    \"\"\"Logistic Regression Classifier using gradient descent.\n",
    "\n",
    "    Parameters\n",
    "    ------------\n",
    "    eta : float\n",
    "      Learning rate (between 0.0 and 1.0)\n",
    "    n_iter : int\n",
    "      Passes over the training dataset.\n",
    "    random_state : int\n",
    "      Random number generator seed for random weight\n",
    "      initialization.\n",
    "\n",
    "\n",
    "    Attributes\n",
    "    -----------\n",
    "    w_ : 1d-array\n",
    "      Weights after fitting.\n",
    "    cost_ : list\n",
    "      Logistic cost function value in each epoch.\n",
    "\n",
    "    \"\"\"\n",
    "    def __init__(self, eta=0.05, n_iter=100, started_weight = [], random_state=1):\n",
    "        self.eta = eta\n",
    "        self.n_iter = n_iter\n",
    "        self.random_state = random_state\n",
    "\n",
    "    def fit(self, X, y):\n",
    "        \"\"\" Fit training data.\n",
    "\n",
    "        Parameters\n",
    "        ----------\n",
    "        X : {array-like}, shape = [n_examples, n_features]\n",
    "          Training vectors, where n_examples is the number of examples and\n",
    "          n_features is the number of features.\n",
    "        y : array-like, shape = [n_examples]\n",
    "          Target values.\n",
    "\n",
    "        Returns\n",
    "        -------\n",
    "        self : object\n",
    "\n",
    "        \"\"\"\n",
    "        rgen = np.random.RandomState(self.random_state)\n",
    "        self.w_ = rgen.normal(loc=0.0, scale=0.01, size=1 + X.shape[1])\n",
    "        self.cost_ = []\n",
    "\n",
    "        for i in range(self.n_iter):\n",
    "            net_input = self.net_input(X)\n",
    "            output = self.activation(net_input)\n",
    "            errors = (y - output)\n",
    "            self.w_[1:] += self.eta * X.T.dot(errors)\n",
    "            self.w_[0] += self.eta * errors.sum()\n",
    "            \n",
    "            # note that we compute the logistic `cost` now\n",
    "            # instead of the sum of squared errors cost\n",
    "            cost = -y.dot(np.log(output)) - ((1 - y).dot(np.log(1 - output)))\n",
    "            self.cost_.append(cost)\n",
    "        return self\n",
    "    \n",
    "    def net_input(self, X):\n",
    "        \"\"\"Calculate net input\"\"\"\n",
    "        return np.dot(X, self.w_[1:]) + self.w_[0]\n",
    "\n",
    "    def activation(self, z):\n",
    "        \"\"\"Compute logistic sigmoid activation\"\"\"\n",
    "        return 1. / (1. + np.exp(-np.clip(z, -250, 250)))\n",
    "\n",
    "    def predict(self, X):\n",
    "        \"\"\"Return class label after unit step\"\"\"\n",
    "        return np.where(self.net_input(X) >= 0.0, 1, 0)\n",
    "        # equivalent to:\n",
    "        # return np.where(self.activation(self.net_input(X)) >= 0.5, 1, 0)"
   ]
  },
  {
   "cell_type": "markdown",
   "metadata": {},
   "source": [
    "Below you can see the first 3 data points of the data set, all labeled as 'setosa'. Let's set the numerical value for 'setosa' to 1. (i.e. y = 1). "
   ]
  },
  {
   "cell_type": "code",
   "execution_count": 104,
   "metadata": {},
   "outputs": [
    {
     "data": {
      "text/plain": [
       "array([[5.1, 1.4],\n",
       "       [4.9, 1.4],\n",
       "       [4.7, 1.3]])"
      ]
     },
     "execution_count": 104,
     "metadata": {},
     "output_type": "execute_result"
    }
   ],
   "source": [
    "X[0:3]"
   ]
  },
  {
   "cell_type": "markdown",
   "metadata": {},
   "source": [
    "\n",
    "Suppose the initial weights of the logistic neuron are w0=0.1, w1=-0.2, w2=0.1\n",
    "\n",
    "(i) Write the weights after processing data points 0,1,2, with $\\eta=0.1$ and show your calculations. (This is similar to the previous assignment, only done now for the logistic neuron) <br>\n",
    "\n"
   ]
  },
  {
   "cell_type": "markdown",
   "metadata": {},
   "source": [
    "(ii) Using *LogisticRegressionGD* check if the data set you constructed in Question 2, also force logistic regression to fail. You can experiment with the number of iterations and the learning rate $\\eta$. \n",
    "\n",
    "(iii) (optional) If logistic regression does not fail for your data set, can you construct another (linearly separable) data set which causes it to fail?\n",
    "\n",
    "*(Please insert cells below for your answers. Clearly id the part of the question you answer)*"
   ]
  },
  {
   "cell_type": "code",
   "execution_count": 105,
   "metadata": {},
   "outputs": [
    {
     "data": {
      "text/plain": [
       "array([[1. , 5.1, 1.4],\n",
       "       [1. , 4.9, 1.4],\n",
       "       [1. , 4.7, 1.3]])"
      ]
     },
     "execution_count": 105,
     "metadata": {},
     "output_type": "execute_result"
    }
   ],
   "source": [
    "#Setting the numerical value for 'setosa' to 1 (this is were y = 1)\n",
    "X_sample = X[0:3]\n",
    "y_sample = np.ones([1,3]).reshape(X_sample.shape[0],1)\n",
    "np.hstack((y_sample,X_sample))"
   ]
  },
  {
   "cell_type": "code",
   "execution_count": 79,
   "metadata": {},
   "outputs": [
    {
     "data": {
      "image/png": "[encoded data removed]",
      "text/plain": [
       "<Figure size 432x288 with 1 Axes>"
      ]
     },
     "metadata": {
      "needs_background": "light"
     },
     "output_type": "display_data"
    },
    {
     "name": "stdout",
     "output_type": "stream",
     "text": [
      "Z1:  0.4805098804887542\n",
      "Z2:  0.48150843754629646\n",
      "Z3:  0.48225745272227183\n"
     ]
    }
   ],
   "source": [
    "#(i):\n",
    "def sigmoid(z):\n",
    "    return 1.0 / (1.0 + np.exp(-z))\n",
    "\n",
    "def cost_1(z):\n",
    "    return - np.log(sigmoid(z))\n",
    "\n",
    "def cost_0(z):\n",
    "    return - np.log(1 - sigmoid(z))\n",
    "\n",
    "w0 = 0.1\n",
    "w1 = -0.2\n",
    "w2 = 0.1\n",
    "eta = 0.1\n",
    "\n",
    "z1 = eta * (1*w0 + 5.1*w1 + 1.4*w2)\n",
    "z2 = eta * (1*w0 + 4.9*w1 + 1.4*w2)\n",
    "z3 = eta * (1*w0 + 4.7*w1 + 1.3*w2)\n",
    "\n",
    "Z1 = sigmoid(z1)\n",
    "Z2 = sigmoid(z2)\n",
    "Z3 = sigmoid(z3)\n",
    "\n",
    "z = np.arange(-10, 10, 0.1)\n",
    "phi_z = sigmoid(z)\n",
    "\n",
    "c1 = [cost_1(x) for x in z]\n",
    "plt.plot(phi_z, c1, label='J(w) if y=1')\n",
    "\n",
    "c0 = [cost_0(x) for x in z]\n",
    "plt.plot(phi_z, c0, linestyle='--', label='J(w) if y=0')\n",
    "\n",
    "plt.ylim(0.0, 5.1)\n",
    "plt.xlim([0, 1])\n",
    "plt.xlabel('$\\phi$(z)')\n",
    "plt.ylabel('J(w)')\n",
    "plt.legend(loc='best')\n",
    "plt.tight_layout()\n",
    "#plt.savefig('images/03_04.png', dpi=300)\n",
    "plt.show()\n",
    "\n",
    "print('Z1: ', Z1)\n",
    "print('Z2: ', Z2)\n",
    "print('Z3: ', Z3)"
   ]
  },
  {
   "cell_type": "code",
   "execution_count": 106,
   "metadata": {},
   "outputs": [
    {
     "data": {
      "image/png": "[encoded data removed]",
      "text/plain": [
       "<Figure size 432x288 with 1 Axes>"
      ]
     },
     "metadata": {
      "needs_background": "light"
     },
     "output_type": "display_data"
    }
   ],
   "source": [
    "#(ii):\n",
    "lr = LogisticRegressionGD(eta=0.001, n_iter=20, random_state=1)\n",
    "\n",
    "lr.fit(X, y)\n",
    "\n",
    "plt.plot(range(1, len(lr.cost_) + 1), lr.cost_, marker='o')\n",
    "plt.xlabel('Epochs')\n",
    "plt.ylabel('Sum-Squared-Error')\n",
    "\n",
    "plt.show()"
   ]
  }
 ],
 "metadata": {
  "kernelspec": {
   "display_name": "Python 3",
   "language": "python",
   "name": "python3"
  },
  "language_info": {
   "codemirror_mode": {
    "name": "ipython",
    "version": 3
   },
   "file_extension": ".py",
   "mimetype": "text/x-python",
   "name": "python",
   "nbconvert_exporter": "python",
   "pygments_lexer": "ipython3",
   "version": "3.7.4"
  }
 },
 "nbformat": 4,
 "nbformat_minor": 4
}
